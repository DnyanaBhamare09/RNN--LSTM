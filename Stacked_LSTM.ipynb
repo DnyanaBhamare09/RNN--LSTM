{
  "nbformat": 4,
  "nbformat_minor": 0,
  "metadata": {
    "colab": {
      "name": "Stacked LSTM.ipynb",
      "provenance": [],
      "collapsed_sections": []
    },
    "kernelspec": {
      "name": "python3",
      "display_name": "Python 3"
    },
    "language_info": {
      "name": "python"
    }
  },
  "cells": [
    {
      "cell_type": "code",
      "metadata": {
        "id": "-L9fTA8YZdad"
      },
      "source": [
        "import pandas as pd\n",
        "import numpy as np"
      ],
      "execution_count": 1,
      "outputs": []
    },
    {
      "cell_type": "code",
      "metadata": {
        "id": "UwYeGtigBssk"
      },
      "source": [
        "# Define univariate sequence\n",
        "seq = [10,20,30,40,50,60,70,80,90]"
      ],
      "execution_count": 2,
      "outputs": []
    },
    {
      "cell_type": "code",
      "metadata": {
        "id": "sm6NT_-RB5hl"
      },
      "source": [
        "# Define the time step\n",
        "n_steps = 3"
      ],
      "execution_count": 3,
      "outputs": []
    },
    {
      "cell_type": "code",
      "metadata": {
        "id": "GMpweJt8B-yh"
      },
      "source": [
        "# Create a function to split the sequence into samples\n",
        "def split_sequence(sequence, n_step):\n",
        "  X, y = list(), list()\n",
        "  for i in range(len(sequence)):\n",
        "    end_i = i + n_step      # End limit of the pattern\n",
        "    # take the limit for the loop over the sequence\n",
        "    if end_i > len(sequence)-1:\n",
        "      break\n",
        "    # collect the input and output parameters from the loop\n",
        "    seq_x, seq_y = sequence[i:end_i], sequence[end_i]\n",
        "    X.append(seq_x)\n",
        "    y.append(seq_y)\n",
        "  return np.array(X), np.array(y)"
      ],
      "execution_count": 4,
      "outputs": []
    },
    {
      "cell_type": "code",
      "metadata": {
        "id": "MuYg3HcoDeBq"
      },
      "source": [
        "X, y = split_sequence(seq, n_steps)"
      ],
      "execution_count": 5,
      "outputs": []
    },
    {
      "cell_type": "code",
      "metadata": {
        "colab": {
          "base_uri": "https://localhost:8080/"
        },
        "id": "stHv73QVH0rC",
        "outputId": "29d1a873-9fc7-478a-bca0-f146bef43aea"
      },
      "source": [
        "X.shape"
      ],
      "execution_count": 6,
      "outputs": [
        {
          "output_type": "execute_result",
          "data": {
            "text/plain": [
              "(6, 3)"
            ]
          },
          "metadata": {
            "tags": []
          },
          "execution_count": 6
        }
      ]
    },
    {
      "cell_type": "code",
      "metadata": {
        "id": "WrlqFUbyGw0d"
      },
      "source": [
        "# reshape from [samples, timesteps] into [samples, timesteps, features]\n",
        "n_features = 1    \n",
        "X = X.reshape((X.shape[0], X.shape[1], n_features))"
      ],
      "execution_count": 7,
      "outputs": []
    },
    {
      "cell_type": "code",
      "metadata": {
        "id": "OcEJtCWSHwKU"
      },
      "source": [
        "# define model\n",
        "from keras.models import Sequential\n",
        "from keras.layers import LSTM\n",
        "from keras.layers import Dense"
      ],
      "execution_count": 8,
      "outputs": []
    },
    {
      "cell_type": "code",
      "metadata": {
        "id": "5bQvQnqHIZ98"
      },
      "source": [
        "# Stacked LSTM model is Multiple hidden LSTM layers can be stacked one on top of another\n",
        "#  LSTMs by default will produce a two-dimensional output as an interpretation from the end of the sequence.\n",
        "# However, An LSTM layer requires a three-dimensional input. It can be solved using by setting the return_sequences=True argument on the input layer.\n",
        "# This allows us to have 3D output from hidden LSTM layer as input to the next.\n",
        "model = Sequential()\n",
        "model.add(LSTM(50, activation = \"relu\", return_sequences=True, input_shape = (n_steps, n_features)))\n",
        "model.add(LSTM(50, activation='relu'))\n",
        "model.add(Dense(1))\n",
        "model.compile(optimizer = \"adam\", loss = \"mse\")"
      ],
      "execution_count": 9,
      "outputs": []
    },
    {
      "cell_type": "code",
      "metadata": {
        "colab": {
          "base_uri": "https://localhost:8080/"
        },
        "id": "UESdiqxmI4NX",
        "outputId": "813b487b-231e-46b7-c4c0-f8c53dbf6b47"
      },
      "source": [
        "# Fit model\n",
        "model.fit(X, y, epochs = 200, verbose = 0)"
      ],
      "execution_count": 10,
      "outputs": [
        {
          "output_type": "execute_result",
          "data": {
            "text/plain": [
              "<tensorflow.python.keras.callbacks.History at 0x7f230e771110>"
            ]
          },
          "metadata": {
            "tags": []
          },
          "execution_count": 10
        }
      ]
    },
    {
      "cell_type": "code",
      "metadata": {
        "id": "BncczBsaJDfv"
      },
      "source": [
        "# demonstrate prediction\n",
        "x_input = np.array([70, 80, 90])"
      ],
      "execution_count": 11,
      "outputs": []
    },
    {
      "cell_type": "code",
      "metadata": {
        "id": "ATKAYvNrJSol"
      },
      "source": [
        "x_input = x_input.reshape(1, n_steps, n_features)"
      ],
      "execution_count": 12,
      "outputs": []
    },
    {
      "cell_type": "code",
      "metadata": {
        "id": "sAYtBiVzJfg_"
      },
      "source": [
        "yhat = model.predict(x_input, verbose = 0)"
      ],
      "execution_count": 13,
      "outputs": []
    },
    {
      "cell_type": "code",
      "metadata": {
        "colab": {
          "base_uri": "https://localhost:8080/"
        },
        "id": "LMfUP4tiJlU0",
        "outputId": "97ac418e-5390-459c-adf2-8907ab92d6fd"
      },
      "source": [
        "yhat"
      ],
      "execution_count": 14,
      "outputs": [
        {
          "output_type": "execute_result",
          "data": {
            "text/plain": [
              "array([[101.75789]], dtype=float32)"
            ]
          },
          "metadata": {
            "tags": []
          },
          "execution_count": 14
        }
      ]
    },
    {
      "cell_type": "code",
      "metadata": {
        "id": "mGjX65gdJnlE"
      },
      "source": [
        ""
      ],
      "execution_count": null,
      "outputs": []
    }
  ]
}