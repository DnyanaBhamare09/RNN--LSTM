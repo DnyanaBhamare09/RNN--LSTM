{
  "nbformat": 4,
  "nbformat_minor": 0,
  "metadata": {
    "colab": {
      "name": "Stock_Price_Prediction_LSTM.ipynb",
      "provenance": []
    },
    "kernelspec": {
      "name": "python3",
      "display_name": "Python 3"
    },
    "language_info": {
      "name": "python"
    },
    "accelerator": "GPU"
  },
  "cells": [
    {
      "cell_type": "code",
      "metadata": {
        "id": "KTqam--2Na3v"
      },
      "source": [
        "import pandas as pd\n",
        "import numpy as np\n",
        "import matplotlib.pyplot as plt"
      ],
      "execution_count": 1,
      "outputs": []
    },
    {
      "cell_type": "code",
      "metadata": {
        "id": "P9WA945hOOBe"
      },
      "source": [
        "url = \"https://raw.githubusercontent.com/DnyanaBhamare09/Data/main/Apple_share_price_prediction.csv\""
      ],
      "execution_count": 2,
      "outputs": []
    },
    {
      "cell_type": "code",
      "metadata": {
        "id": "Pd7pOn0DOUjx"
      },
      "source": [
        "df = pd.read_csv(url)"
      ],
      "execution_count": 3,
      "outputs": []
    },
    {
      "cell_type": "code",
      "metadata": {
        "colab": {
          "base_uri": "https://localhost:8080/",
          "height": 306
        },
        "id": "RJ7uxxulOohl",
        "outputId": "4eaf48b0-4cdc-41f5-95b2-36e92c49c36f"
      },
      "source": [
        "df.head()"
      ],
      "execution_count": 4,
      "outputs": [
        {
          "output_type": "execute_result",
          "data": {
            "text/html": [
              "<div>\n",
              "<style scoped>\n",
              "    .dataframe tbody tr th:only-of-type {\n",
              "        vertical-align: middle;\n",
              "    }\n",
              "\n",
              "    .dataframe tbody tr th {\n",
              "        vertical-align: top;\n",
              "    }\n",
              "\n",
              "    .dataframe thead th {\n",
              "        text-align: right;\n",
              "    }\n",
              "</style>\n",
              "<table border=\"1\" class=\"dataframe\">\n",
              "  <thead>\n",
              "    <tr style=\"text-align: right;\">\n",
              "      <th></th>\n",
              "      <th>Unnamed: 0</th>\n",
              "      <th>symbol</th>\n",
              "      <th>date</th>\n",
              "      <th>close</th>\n",
              "      <th>high</th>\n",
              "      <th>low</th>\n",
              "      <th>open</th>\n",
              "      <th>volume</th>\n",
              "      <th>adjClose</th>\n",
              "      <th>adjHigh</th>\n",
              "      <th>adjLow</th>\n",
              "      <th>adjOpen</th>\n",
              "      <th>adjVolume</th>\n",
              "      <th>divCash</th>\n",
              "      <th>splitFactor</th>\n",
              "    </tr>\n",
              "  </thead>\n",
              "  <tbody>\n",
              "    <tr>\n",
              "      <th>0</th>\n",
              "      <td>0</td>\n",
              "      <td>AAPL</td>\n",
              "      <td>2015-05-27 00:00:00+00:00</td>\n",
              "      <td>132.045</td>\n",
              "      <td>132.260</td>\n",
              "      <td>130.05</td>\n",
              "      <td>130.34</td>\n",
              "      <td>45833246</td>\n",
              "      <td>121.682558</td>\n",
              "      <td>121.880685</td>\n",
              "      <td>119.844118</td>\n",
              "      <td>120.111360</td>\n",
              "      <td>45833246</td>\n",
              "      <td>0.0</td>\n",
              "      <td>1.0</td>\n",
              "    </tr>\n",
              "    <tr>\n",
              "      <th>1</th>\n",
              "      <td>1</td>\n",
              "      <td>AAPL</td>\n",
              "      <td>2015-05-28 00:00:00+00:00</td>\n",
              "      <td>131.780</td>\n",
              "      <td>131.950</td>\n",
              "      <td>131.10</td>\n",
              "      <td>131.86</td>\n",
              "      <td>30733309</td>\n",
              "      <td>121.438354</td>\n",
              "      <td>121.595013</td>\n",
              "      <td>120.811718</td>\n",
              "      <td>121.512076</td>\n",
              "      <td>30733309</td>\n",
              "      <td>0.0</td>\n",
              "      <td>1.0</td>\n",
              "    </tr>\n",
              "    <tr>\n",
              "      <th>2</th>\n",
              "      <td>2</td>\n",
              "      <td>AAPL</td>\n",
              "      <td>2015-05-29 00:00:00+00:00</td>\n",
              "      <td>130.280</td>\n",
              "      <td>131.450</td>\n",
              "      <td>129.90</td>\n",
              "      <td>131.23</td>\n",
              "      <td>50884452</td>\n",
              "      <td>120.056069</td>\n",
              "      <td>121.134251</td>\n",
              "      <td>119.705890</td>\n",
              "      <td>120.931516</td>\n",
              "      <td>50884452</td>\n",
              "      <td>0.0</td>\n",
              "      <td>1.0</td>\n",
              "    </tr>\n",
              "    <tr>\n",
              "      <th>3</th>\n",
              "      <td>3</td>\n",
              "      <td>AAPL</td>\n",
              "      <td>2015-06-01 00:00:00+00:00</td>\n",
              "      <td>130.535</td>\n",
              "      <td>131.390</td>\n",
              "      <td>130.05</td>\n",
              "      <td>131.20</td>\n",
              "      <td>32112797</td>\n",
              "      <td>120.291057</td>\n",
              "      <td>121.078960</td>\n",
              "      <td>119.844118</td>\n",
              "      <td>120.903870</td>\n",
              "      <td>32112797</td>\n",
              "      <td>0.0</td>\n",
              "      <td>1.0</td>\n",
              "    </tr>\n",
              "    <tr>\n",
              "      <th>4</th>\n",
              "      <td>4</td>\n",
              "      <td>AAPL</td>\n",
              "      <td>2015-06-02 00:00:00+00:00</td>\n",
              "      <td>129.960</td>\n",
              "      <td>130.655</td>\n",
              "      <td>129.32</td>\n",
              "      <td>129.86</td>\n",
              "      <td>33667627</td>\n",
              "      <td>119.761181</td>\n",
              "      <td>120.401640</td>\n",
              "      <td>119.171406</td>\n",
              "      <td>119.669029</td>\n",
              "      <td>33667627</td>\n",
              "      <td>0.0</td>\n",
              "      <td>1.0</td>\n",
              "    </tr>\n",
              "  </tbody>\n",
              "</table>\n",
              "</div>"
            ],
            "text/plain": [
              "   Unnamed: 0 symbol  ... divCash  splitFactor\n",
              "0           0   AAPL  ...     0.0          1.0\n",
              "1           1   AAPL  ...     0.0          1.0\n",
              "2           2   AAPL  ...     0.0          1.0\n",
              "3           3   AAPL  ...     0.0          1.0\n",
              "4           4   AAPL  ...     0.0          1.0\n",
              "\n",
              "[5 rows x 15 columns]"
            ]
          },
          "metadata": {
            "tags": []
          },
          "execution_count": 4
        }
      ]
    },
    {
      "cell_type": "code",
      "metadata": {
        "id": "FCiMbl5iOq2J"
      },
      "source": [
        "df1 = df.reset_index()[\"close\"]"
      ],
      "execution_count": 5,
      "outputs": []
    },
    {
      "cell_type": "code",
      "metadata": {
        "colab": {
          "base_uri": "https://localhost:8080/"
        },
        "id": "MlgRL8SrO4RC",
        "outputId": "8fe4d34f-2f15-4c81-80f5-0915ba7b5cfa"
      },
      "source": [
        "df1"
      ],
      "execution_count": 6,
      "outputs": [
        {
          "output_type": "execute_result",
          "data": {
            "text/plain": [
              "0       132.045\n",
              "1       131.780\n",
              "2       130.280\n",
              "3       130.535\n",
              "4       129.960\n",
              "         ...   \n",
              "1253    314.960\n",
              "1254    313.140\n",
              "1255    319.230\n",
              "1256    316.850\n",
              "1257    318.890\n",
              "Name: close, Length: 1258, dtype: float64"
            ]
          },
          "metadata": {
            "tags": []
          },
          "execution_count": 6
        }
      ]
    },
    {
      "cell_type": "code",
      "metadata": {
        "colab": {
          "base_uri": "https://localhost:8080/",
          "height": 282
        },
        "id": "dpbElCuHPCxg",
        "outputId": "5f13cc81-b7fa-41a1-ee0b-a3282d45dadd"
      },
      "source": [
        "plt.plot(df1)"
      ],
      "execution_count": 7,
      "outputs": [
        {
          "output_type": "execute_result",
          "data": {
            "text/plain": [
              "[<matplotlib.lines.Line2D at 0x7f729a566f10>]"
            ]
          },
          "metadata": {
            "tags": []
          },
          "execution_count": 7
        },
        {
          "output_type": "display_data",
          "data": {
            "image/png": "[encoded data removed]",
            "text/plain": [
              "<Figure size 432x288 with 1 Axes>"
            ]
          },
          "metadata": {
            "tags": [],
            "needs_background": "light"
          }
        }
      ]
    },
    {
      "cell_type": "code",
      "metadata": {
        "id": "CCJsDOoaPG-H"
      },
      "source": [
        "# Scaling the data as LSTM is sensitive to scale of the data\n",
        "from sklearn.preprocessing import MinMaxScaler\n",
        "scaler = MinMaxScaler(feature_range =(0, 1))\n",
        "df1 = scaler.fit_transform(np.array(df1).reshape(-1,1))"
      ],
      "execution_count": 8,
      "outputs": []
    },
    {
      "cell_type": "code",
      "metadata": {
        "colab": {
          "base_uri": "https://localhost:8080/"
        },
        "id": "yHq2_ZmejdDT",
        "outputId": "52b15dbb-b736-4c1c-a7eb-0ab0ff8bd6ca"
      },
      "source": [
        "print(df1)"
      ],
      "execution_count": 9,
      "outputs": [
        {
          "output_type": "stream",
          "text": [
            "[[0.17607447]\n",
            " [0.17495567]\n",
            " [0.16862282]\n",
            " ...\n",
            " [0.96635143]\n",
            " [0.9563033 ]\n",
            " [0.96491598]]\n"
          ],
          "name": "stdout"
        }
      ]
    },
    {
      "cell_type": "code",
      "metadata": {
        "id": "ANeVvd3kjldd"
      },
      "source": [
        "# train test split\n",
        "training_size = int(len(df1)*0.65)\n",
        "test_size = len(df1) - training_size\n",
        "train_data, test_data = df1[0:training_size, :], df1[training_size:len(df1), :1]"
      ],
      "execution_count": 10,
      "outputs": []
    },
    {
      "cell_type": "code",
      "metadata": {
        "colab": {
          "base_uri": "https://localhost:8080/"
        },
        "id": "enjHEe0Rkm-c",
        "outputId": "f6f1aef4-1f91-4359-907e-31860eb18641"
      },
      "source": [
        "training_size, test_size"
      ],
      "execution_count": 11,
      "outputs": [
        {
          "output_type": "execute_result",
          "data": {
            "text/plain": [
              "(817, 441)"
            ]
          },
          "metadata": {
            "tags": []
          },
          "execution_count": 11
        }
      ]
    },
    {
      "cell_type": "markdown",
      "metadata": {
        "id": "NXdzueY8l8z7"
      },
      "source": [
        "# Preprocessing for time series values"
      ]
    },
    {
      "cell_type": "code",
      "metadata": {
        "id": "B_WMWqszl1fB"
      },
      "source": [
        "def create_dataset(dataset, time_step = 1):\n",
        "  dataX, dataY = [], []\n",
        "  for i in range(len(dataset)-time_step-1):\n",
        "    a = dataset[i:(i+time_step), 0]\n",
        "    dataX.append(a)\n",
        "    dataY.append(dataset[i + time_step, 0])\n",
        "  return np.array(dataX), np.array(dataY)"
      ],
      "execution_count": 16,
      "outputs": []
    },
    {
      "cell_type": "code",
      "metadata": {
        "id": "k-8KcUJsot46"
      },
      "source": [
        "# Get training and testing dataset\n",
        "time_step = 100\n",
        "X_train, y_train = create_dataset(train_data, time_step)\n",
        "X_test, y_test = create_dataset(test_data, time_step)"
      ],
      "execution_count": 17,
      "outputs": []
    },
    {
      "cell_type": "code",
      "metadata": {
        "colab": {
          "base_uri": "https://localhost:8080/"
        },
        "id": "33KhTcCXpVFK",
        "outputId": "33b7ca05-dce7-4935-b71c-f0e83236ea47"
      },
      "source": [
        "print(X_train.shape), print(y_train.shape)"
      ],
      "execution_count": 18,
      "outputs": [
        {
          "output_type": "stream",
          "text": [
            "(716, 100)\n",
            "(716,)\n"
          ],
          "name": "stdout"
        },
        {
          "output_type": "execute_result",
          "data": {
            "text/plain": [
              "(None, None)"
            ]
          },
          "metadata": {
            "tags": []
          },
          "execution_count": 18
        }
      ]
    },
    {
      "cell_type": "code",
      "metadata": {
        "colab": {
          "base_uri": "https://localhost:8080/"
        },
        "id": "8VbvE1K0p3Ar",
        "outputId": "b4558c36-8946-4d90-f93f-37099cfe333c"
      },
      "source": [
        "print(X_test.shape), print(y_test.shape)"
      ],
      "execution_count": 20,
      "outputs": [
        {
          "output_type": "stream",
          "text": [
            "(340, 100)\n",
            "(340,)\n"
          ],
          "name": "stdout"
        },
        {
          "output_type": "execute_result",
          "data": {
            "text/plain": [
              "(None, None)"
            ]
          },
          "metadata": {
            "tags": []
          },
          "execution_count": 20
        }
      ]
    },
    {
      "cell_type": "markdown",
      "metadata": {
        "id": "jNCsLa4vqB6O"
      },
      "source": [
        "# Reshaping the input as per LSTM"
      ]
    },
    {
      "cell_type": "code",
      "metadata": {
        "id": "ppJ98rqOp6uC"
      },
      "source": [
        "# Reshaping the input as [samples, time_steps, features] as required by LSTM\n",
        "X_train = X_train.reshape(X_train.shape[0], X_train.shape[1], 1)\n",
        "X_test = X_test.reshape(X_test.shape[0], X_test.shape[1], 1)"
      ],
      "execution_count": 22,
      "outputs": []
    },
    {
      "cell_type": "markdown",
      "metadata": {
        "id": "VDlrP487rAlW"
      },
      "source": [
        "# Creating LSTM model"
      ]
    },
    {
      "cell_type": "code",
      "metadata": {
        "id": "tCGPY6Vhq0T6"
      },
      "source": [
        "from tensorflow.keras.models import Sequential\n",
        "from tensorflow.keras.layers import Dense\n",
        "from tensorflow.keras.layers import LSTM"
      ],
      "execution_count": 24,
      "outputs": []
    },
    {
      "cell_type": "code",
      "metadata": {
        "id": "-RG8uiT1rX65"
      },
      "source": [
        "model = Sequential()\n",
        "model.add(LSTM(50, return_sequences=True, input_shape = (100, 1)))\n",
        "model.add(LSTM(50, return_sequences = True))\n",
        "model.add(LSTM(50))\n",
        "model.add(Dense(1))\n",
        "model.compile(loss = \"mean_squared_error\", optimizer = \"adam\")"
      ],
      "execution_count": 26,
      "outputs": []
    },
    {
      "cell_type": "code",
      "metadata": {
        "colab": {
          "base_uri": "https://localhost:8080/"
        },
        "id": "6Pt2b276sOz1",
        "outputId": "2be9ec85-7fcc-49ac-b0e4-678187975352"
      },
      "source": [
        "model.summary()"
      ],
      "execution_count": 27,
      "outputs": [
        {
          "output_type": "stream",
          "text": [
            "Model: \"sequential_1\"\n",
            "_________________________________________________________________\n",
            "Layer (type)                 Output Shape              Param #   \n",
            "=================================================================\n",
            "lstm_1 (LSTM)                (None, 100, 50)           10400     \n",
            "_________________________________________________________________\n",
            "lstm_2 (LSTM)                (None, 100, 50)           20200     \n",
            "_________________________________________________________________\n",
            "lstm_3 (LSTM)                (None, 50)                20200     \n",
            "_________________________________________________________________\n",
            "dense (Dense)                (None, 1)                 51        \n",
            "=================================================================\n",
            "Total params: 50,851\n",
            "Trainable params: 50,851\n",
            "Non-trainable params: 0\n",
            "_________________________________________________________________\n"
          ],
          "name": "stdout"
        }
      ]
    },
    {
      "cell_type": "code",
      "metadata": {
        "colab": {
          "base_uri": "https://localhost:8080/"
        },
        "id": "LzoKZqc8sWYT",
        "outputId": "029bfff3-8264-4896-c5c7-538c26ee9701"
      },
      "source": [
        "model.fit(X_train, y_train, validation_data = (X_test, y_test), epochs = 100, batch_size =64, verbose = 1)"
      ],
      "execution_count": 28,
      "outputs": [
        {
          "output_type": "stream",
          "text": [
            "Epoch 1/100\n",
            "12/12 [==============================] - 35s 196ms/step - loss: 0.0270 - val_loss: 0.0763\n",
            "Epoch 2/100\n",
            "12/12 [==============================] - 1s 85ms/step - loss: 0.0051 - val_loss: 0.0049\n",
            "Epoch 3/100\n",
            "12/12 [==============================] - 1s 87ms/step - loss: 0.0012 - val_loss: 0.0042\n",
            "Epoch 4/100\n",
            "12/12 [==============================] - 1s 84ms/step - loss: 8.1089e-04 - val_loss: 0.0060\n",
            "Epoch 5/100\n",
            "12/12 [==============================] - 1s 85ms/step - loss: 7.0800e-04 - val_loss: 0.0073\n",
            "Epoch 6/100\n",
            "12/12 [==============================] - 1s 86ms/step - loss: 6.4416e-04 - val_loss: 0.0068\n",
            "Epoch 7/100\n",
            "12/12 [==============================] - 1s 85ms/step - loss: 6.7491e-04 - val_loss: 0.0058\n",
            "Epoch 8/100\n",
            "12/12 [==============================] - 1s 85ms/step - loss: 6.4468e-04 - val_loss: 0.0053\n",
            "Epoch 9/100\n",
            "12/12 [==============================] - 1s 86ms/step - loss: 6.2051e-04 - val_loss: 0.0045\n",
            "Epoch 10/100\n",
            "12/12 [==============================] - 1s 86ms/step - loss: 6.0481e-04 - val_loss: 0.0051\n",
            "Epoch 11/100\n",
            "12/12 [==============================] - 1s 87ms/step - loss: 6.0134e-04 - val_loss: 0.0039\n",
            "Epoch 12/100\n",
            "12/12 [==============================] - 1s 86ms/step - loss: 5.7498e-04 - val_loss: 0.0034\n",
            "Epoch 13/100\n",
            "12/12 [==============================] - 1s 86ms/step - loss: 6.9037e-04 - val_loss: 0.0034\n",
            "Epoch 14/100\n",
            "12/12 [==============================] - 1s 85ms/step - loss: 6.1629e-04 - val_loss: 0.0033\n",
            "Epoch 15/100\n",
            "12/12 [==============================] - 1s 85ms/step - loss: 5.0756e-04 - val_loss: 0.0032\n",
            "Epoch 16/100\n",
            "12/12 [==============================] - 1s 86ms/step - loss: 5.4078e-04 - val_loss: 0.0030\n",
            "Epoch 17/100\n",
            "12/12 [==============================] - 1s 85ms/step - loss: 5.8037e-04 - val_loss: 0.0029\n",
            "Epoch 18/100\n",
            "12/12 [==============================] - 1s 85ms/step - loss: 5.5733e-04 - val_loss: 0.0037\n",
            "Epoch 19/100\n",
            "12/12 [==============================] - 1s 85ms/step - loss: 5.8474e-04 - val_loss: 0.0050\n",
            "Epoch 20/100\n",
            "12/12 [==============================] - 1s 85ms/step - loss: 6.3454e-04 - val_loss: 0.0027\n",
            "Epoch 21/100\n",
            "12/12 [==============================] - 1s 85ms/step - loss: 5.8050e-04 - val_loss: 0.0025\n",
            "Epoch 22/100\n",
            "12/12 [==============================] - 1s 85ms/step - loss: 5.0255e-04 - val_loss: 0.0027\n",
            "Epoch 23/100\n",
            "12/12 [==============================] - 1s 85ms/step - loss: 5.2454e-04 - val_loss: 0.0031\n",
            "Epoch 24/100\n",
            "12/12 [==============================] - 1s 86ms/step - loss: 5.4142e-04 - val_loss: 0.0023\n",
            "Epoch 25/100\n",
            "12/12 [==============================] - 1s 86ms/step - loss: 4.5815e-04 - val_loss: 0.0024\n",
            "Epoch 26/100\n",
            "12/12 [==============================] - 1s 86ms/step - loss: 4.8481e-04 - val_loss: 0.0022\n",
            "Epoch 27/100\n",
            "12/12 [==============================] - 1s 85ms/step - loss: 4.8681e-04 - val_loss: 0.0022\n",
            "Epoch 28/100\n",
            "12/12 [==============================] - 1s 84ms/step - loss: 4.4028e-04 - val_loss: 0.0022\n",
            "Epoch 29/100\n",
            "12/12 [==============================] - 1s 86ms/step - loss: 4.2102e-04 - val_loss: 0.0019\n",
            "Epoch 30/100\n",
            "12/12 [==============================] - 1s 85ms/step - loss: 4.1768e-04 - val_loss: 0.0020\n",
            "Epoch 31/100\n",
            "12/12 [==============================] - 1s 86ms/step - loss: 3.9674e-04 - val_loss: 0.0018\n",
            "Epoch 32/100\n",
            "12/12 [==============================] - 1s 85ms/step - loss: 3.9160e-04 - val_loss: 0.0018\n",
            "Epoch 33/100\n",
            "12/12 [==============================] - 1s 84ms/step - loss: 3.7341e-04 - val_loss: 0.0017\n",
            "Epoch 34/100\n",
            "12/12 [==============================] - 1s 86ms/step - loss: 3.7718e-04 - val_loss: 0.0016\n",
            "Epoch 35/100\n",
            "12/12 [==============================] - 1s 85ms/step - loss: 3.7514e-04 - val_loss: 0.0017\n",
            "Epoch 36/100\n",
            "12/12 [==============================] - 1s 85ms/step - loss: 3.7270e-04 - val_loss: 0.0022\n",
            "Epoch 37/100\n",
            "12/12 [==============================] - 1s 85ms/step - loss: 5.2843e-04 - val_loss: 0.0018\n",
            "Epoch 38/100\n",
            "12/12 [==============================] - 1s 84ms/step - loss: 3.6934e-04 - val_loss: 0.0015\n",
            "Epoch 39/100\n",
            "12/12 [==============================] - 1s 86ms/step - loss: 3.9568e-04 - val_loss: 0.0015\n",
            "Epoch 40/100\n",
            "12/12 [==============================] - 1s 86ms/step - loss: 3.4685e-04 - val_loss: 0.0025\n",
            "Epoch 41/100\n",
            "12/12 [==============================] - 1s 86ms/step - loss: 4.3148e-04 - val_loss: 0.0016\n",
            "Epoch 42/100\n",
            "12/12 [==============================] - 1s 87ms/step - loss: 4.7926e-04 - val_loss: 0.0015\n",
            "Epoch 43/100\n",
            "12/12 [==============================] - 1s 85ms/step - loss: 4.1383e-04 - val_loss: 0.0023\n",
            "Epoch 44/100\n",
            "12/12 [==============================] - 1s 86ms/step - loss: 3.4124e-04 - val_loss: 0.0015\n",
            "Epoch 45/100\n",
            "12/12 [==============================] - 1s 85ms/step - loss: 3.5460e-04 - val_loss: 0.0014\n",
            "Epoch 46/100\n",
            "12/12 [==============================] - 1s 86ms/step - loss: 3.2962e-04 - val_loss: 0.0018\n",
            "Epoch 47/100\n",
            "12/12 [==============================] - 1s 86ms/step - loss: 3.1880e-04 - val_loss: 0.0016\n",
            "Epoch 48/100\n",
            "12/12 [==============================] - 1s 84ms/step - loss: 3.1710e-04 - val_loss: 0.0018\n",
            "Epoch 49/100\n",
            "12/12 [==============================] - 1s 84ms/step - loss: 3.2150e-04 - val_loss: 0.0015\n",
            "Epoch 50/100\n",
            "12/12 [==============================] - 1s 85ms/step - loss: 3.3330e-04 - val_loss: 0.0014\n",
            "Epoch 51/100\n",
            "12/12 [==============================] - 1s 85ms/step - loss: 2.8440e-04 - val_loss: 0.0014\n",
            "Epoch 52/100\n",
            "12/12 [==============================] - 1s 85ms/step - loss: 3.0115e-04 - val_loss: 0.0024\n",
            "Epoch 53/100\n",
            "12/12 [==============================] - 1s 85ms/step - loss: 4.0104e-04 - val_loss: 0.0018\n",
            "Epoch 54/100\n",
            "12/12 [==============================] - 1s 85ms/step - loss: 3.2079e-04 - val_loss: 0.0015\n",
            "Epoch 55/100\n",
            "12/12 [==============================] - 1s 86ms/step - loss: 2.8984e-04 - val_loss: 0.0015\n",
            "Epoch 56/100\n",
            "12/12 [==============================] - 1s 86ms/step - loss: 2.7667e-04 - val_loss: 0.0013\n",
            "Epoch 57/100\n",
            "12/12 [==============================] - 1s 85ms/step - loss: 3.0414e-04 - val_loss: 0.0013\n",
            "Epoch 58/100\n",
            "12/12 [==============================] - 1s 85ms/step - loss: 2.6306e-04 - val_loss: 0.0015\n",
            "Epoch 59/100\n",
            "12/12 [==============================] - 1s 86ms/step - loss: 2.6453e-04 - val_loss: 0.0014\n",
            "Epoch 60/100\n",
            "12/12 [==============================] - 1s 86ms/step - loss: 3.0719e-04 - val_loss: 0.0016\n",
            "Epoch 61/100\n",
            "12/12 [==============================] - 1s 85ms/step - loss: 2.7817e-04 - val_loss: 0.0014\n",
            "Epoch 62/100\n",
            "12/12 [==============================] - 1s 87ms/step - loss: 2.3734e-04 - val_loss: 0.0013\n",
            "Epoch 63/100\n",
            "12/12 [==============================] - 1s 85ms/step - loss: 2.3119e-04 - val_loss: 0.0014\n",
            "Epoch 64/100\n",
            "12/12 [==============================] - 1s 85ms/step - loss: 2.3060e-04 - val_loss: 0.0012\n",
            "Epoch 65/100\n",
            "12/12 [==============================] - 1s 87ms/step - loss: 2.4825e-04 - val_loss: 0.0018\n",
            "Epoch 66/100\n",
            "12/12 [==============================] - 1s 86ms/step - loss: 2.6015e-04 - val_loss: 0.0013\n",
            "Epoch 67/100\n",
            "12/12 [==============================] - 1s 85ms/step - loss: 2.5465e-04 - val_loss: 0.0013\n",
            "Epoch 68/100\n",
            "12/12 [==============================] - 1s 85ms/step - loss: 2.4718e-04 - val_loss: 0.0014\n",
            "Epoch 69/100\n",
            "12/12 [==============================] - 1s 86ms/step - loss: 2.4120e-04 - val_loss: 0.0013\n",
            "Epoch 70/100\n",
            "12/12 [==============================] - 1s 87ms/step - loss: 2.3061e-04 - val_loss: 0.0013\n",
            "Epoch 71/100\n",
            "12/12 [==============================] - 1s 86ms/step - loss: 2.2349e-04 - val_loss: 0.0013\n",
            "Epoch 72/100\n",
            "12/12 [==============================] - 1s 85ms/step - loss: 2.3221e-04 - val_loss: 0.0012\n",
            "Epoch 73/100\n",
            "12/12 [==============================] - 1s 86ms/step - loss: 2.3746e-04 - val_loss: 0.0022\n",
            "Epoch 74/100\n",
            "12/12 [==============================] - 1s 87ms/step - loss: 2.7226e-04 - val_loss: 0.0012\n",
            "Epoch 75/100\n",
            "12/12 [==============================] - 1s 85ms/step - loss: 2.0564e-04 - val_loss: 0.0013\n",
            "Epoch 76/100\n",
            "12/12 [==============================] - 1s 84ms/step - loss: 1.7996e-04 - val_loss: 0.0022\n",
            "Epoch 77/100\n",
            "12/12 [==============================] - 1s 86ms/step - loss: 2.4857e-04 - val_loss: 0.0012\n",
            "Epoch 78/100\n",
            "12/12 [==============================] - 1s 85ms/step - loss: 2.0455e-04 - val_loss: 0.0014\n",
            "Epoch 79/100\n",
            "12/12 [==============================] - 1s 86ms/step - loss: 1.9508e-04 - val_loss: 0.0011\n",
            "Epoch 80/100\n",
            "12/12 [==============================] - 1s 85ms/step - loss: 1.5639e-04 - val_loss: 0.0014\n",
            "Epoch 81/100\n",
            "12/12 [==============================] - 1s 86ms/step - loss: 1.8559e-04 - val_loss: 0.0010\n",
            "Epoch 82/100\n",
            "12/12 [==============================] - 1s 86ms/step - loss: 1.9857e-04 - val_loss: 0.0011\n",
            "Epoch 83/100\n",
            "12/12 [==============================] - 1s 86ms/step - loss: 1.8649e-04 - val_loss: 0.0011\n",
            "Epoch 84/100\n",
            "12/12 [==============================] - 1s 88ms/step - loss: 1.8716e-04 - val_loss: 0.0010\n",
            "Epoch 85/100\n",
            "12/12 [==============================] - 1s 85ms/step - loss: 1.7991e-04 - val_loss: 0.0011\n",
            "Epoch 86/100\n",
            "12/12 [==============================] - 1s 86ms/step - loss: 1.7227e-04 - val_loss: 0.0012\n",
            "Epoch 87/100\n",
            "12/12 [==============================] - 1s 87ms/step - loss: 1.7859e-04 - val_loss: 0.0011\n",
            "Epoch 88/100\n",
            "12/12 [==============================] - 1s 86ms/step - loss: 1.9368e-04 - val_loss: 9.9060e-04\n",
            "Epoch 89/100\n",
            "12/12 [==============================] - 1s 86ms/step - loss: 1.9543e-04 - val_loss: 0.0010\n",
            "Epoch 90/100\n",
            "12/12 [==============================] - 1s 83ms/step - loss: 1.5205e-04 - val_loss: 9.9736e-04\n",
            "Epoch 91/100\n",
            "12/12 [==============================] - 1s 86ms/step - loss: 1.4855e-04 - val_loss: 0.0010\n",
            "Epoch 92/100\n",
            "12/12 [==============================] - 1s 86ms/step - loss: 2.1879e-04 - val_loss: 0.0013\n",
            "Epoch 93/100\n",
            "12/12 [==============================] - 1s 86ms/step - loss: 1.7387e-04 - val_loss: 0.0014\n",
            "Epoch 94/100\n",
            "12/12 [==============================] - 1s 85ms/step - loss: 2.0884e-04 - val_loss: 0.0010\n",
            "Epoch 95/100\n",
            "12/12 [==============================] - 1s 87ms/step - loss: 1.5750e-04 - val_loss: 0.0011\n",
            "Epoch 96/100\n",
            "12/12 [==============================] - 1s 86ms/step - loss: 1.5495e-04 - val_loss: 0.0011\n",
            "Epoch 97/100\n",
            "12/12 [==============================] - 1s 87ms/step - loss: 1.8414e-04 - val_loss: 0.0012\n",
            "Epoch 98/100\n",
            "12/12 [==============================] - 1s 85ms/step - loss: 1.6452e-04 - val_loss: 0.0011\n",
            "Epoch 99/100\n",
            "12/12 [==============================] - 1s 87ms/step - loss: 1.5876e-04 - val_loss: 9.5345e-04\n",
            "Epoch 100/100\n",
            "12/12 [==============================] - 1s 86ms/step - loss: 1.5042e-04 - val_loss: 9.9079e-04\n"
          ],
          "name": "stdout"
        },
        {
          "output_type": "execute_result",
          "data": {
            "text/plain": [
              "<tensorflow.python.keras.callbacks.History at 0x7f720ae99090>"
            ]
          },
          "metadata": {
            "tags": []
          },
          "execution_count": 28
        }
      ]
    },
    {
      "cell_type": "code",
      "metadata": {
        "id": "Vs9qe63NsqDr"
      },
      "source": [
        "# Predictions and performance metrics\n",
        "train_predict = model.predict(X_train)\n",
        "test_predict = model.predict(X_test)"
      ],
      "execution_count": 29,
      "outputs": []
    },
    {
      "cell_type": "code",
      "metadata": {
        "id": "3hY1BOa8tT9a"
      },
      "source": [
        "# Transform back to original form\n",
        "train_predict=scaler.inverse_transform(train_predict)\n",
        "test_predict=scaler.inverse_transform(test_predict)"
      ],
      "execution_count": 30,
      "outputs": []
    },
    {
      "cell_type": "code",
      "metadata": {
        "colab": {
          "base_uri": "https://localhost:8080/"
        },
        "id": "PWSlxLoStdOz",
        "outputId": "b1b06413-f859-46e7-f799-206f6ab16172"
      },
      "source": [
        "# Calculate RMSE performance metrics\n",
        "import math\n",
        "from sklearn.metrics import mean_squared_error\n",
        "math.sqrt(mean_squared_error(y_train, train_predict))"
      ],
      "execution_count": 31,
      "outputs": [
        {
          "output_type": "execute_result",
          "data": {
            "text/plain": [
              "143.86496945004083"
            ]
          },
          "metadata": {
            "tags": []
          },
          "execution_count": 31
        }
      ]
    },
    {
      "cell_type": "code",
      "metadata": {
        "colab": {
          "base_uri": "https://localhost:8080/"
        },
        "id": "GrtDqTMGt9WC",
        "outputId": "d02da72b-7329-44d9-9fa7-f525e552127f"
      },
      "source": [
        "math.sqrt(mean_squared_error(y_test, test_predict))"
      ],
      "execution_count": 32,
      "outputs": [
        {
          "output_type": "execute_result",
          "data": {
            "text/plain": [
              "240.71175420503587"
            ]
          },
          "metadata": {
            "tags": []
          },
          "execution_count": 32
        }
      ]
    },
    {
      "cell_type": "code",
      "metadata": {
        "colab": {
          "base_uri": "https://localhost:8080/",
          "height": 265
        },
        "id": "TY4OdQg5uIsp",
        "outputId": "7585a00b-69e1-4115-b692-1ce04f80735b"
      },
      "source": [
        "# Plot representation\n",
        "look_back = 100\n",
        "trainPredictPlot = np.empty_like(df1)\n",
        "trainPredictPlot[:,:] = np.nan\n",
        "trainPredictPlot[look_back:len(train_predict) + look_back, :] = train_predict\n",
        "\n",
        "# test prediction for plotting\n",
        "testPredictPlot = np.empty_like(df1)\n",
        "testPredictPlot[:, :] = np.nan\n",
        "testPredictPlot[len(train_predict)+(look_back*2)+1:len(df1)-1, :] = test_predict\n",
        "\n",
        "# plot baseline and predictions\n",
        "plt.plot(scaler.inverse_transform(df1))\n",
        "plt.plot(trainPredictPlot)\n",
        "plt.plot(testPredictPlot)\n",
        "plt.show()\n"
      ],
      "execution_count": 34,
      "outputs": [
        {
          "output_type": "display_data",
          "data": {
            "image/png": "[encoded data removed]",
            "text/plain": [
              "<Figure size 432x288 with 1 Axes>"
            ]
          },
          "metadata": {
            "tags": [],
            "needs_background": "light"
          }
        }
      ]
    },
    {
      "cell_type": "markdown",
      "metadata": {
        "id": "SdmvkSY03712"
      },
      "source": [
        "# Predicting the values for next 30 days"
      ]
    },
    {
      "cell_type": "code",
      "metadata": {
        "colab": {
          "base_uri": "https://localhost:8080/"
        },
        "id": "QLlpCKMlvD4p",
        "outputId": "8f1f7169-d36f-469d-94f9-76a2d9dd2e71"
      },
      "source": [
        "# we find the shape of test data\n",
        "len(test_data)"
      ],
      "execution_count": 38,
      "outputs": [
        {
          "output_type": "execute_result",
          "data": {
            "text/plain": [
              "441"
            ]
          },
          "metadata": {
            "tags": []
          },
          "execution_count": 38
        }
      ]
    },
    {
      "cell_type": "code",
      "metadata": {
        "colab": {
          "base_uri": "https://localhost:8080/"
        },
        "id": "WBsVA0bpvXm0",
        "outputId": "ccf6e819-68f4-4262-c444-99a588a695fe"
      },
      "source": [
        "# First we take a test data of previous 100 days\n",
        "x_input = test_data[341:].reshape(1, -1)\n",
        "x_input.shape"
      ],
      "execution_count": 39,
      "outputs": [
        {
          "output_type": "execute_result",
          "data": {
            "text/plain": [
              "(1, 100)"
            ]
          },
          "metadata": {
            "tags": []
          },
          "execution_count": 39
        }
      ]
    },
    {
      "cell_type": "code",
      "metadata": {
        "id": "5J6pPgDn3KkC"
      },
      "source": [
        "# convert input data into the list\n",
        "temp_input = list(x_input)\n",
        "temp_input = temp_input[0].tolist()"
      ],
      "execution_count": 40,
      "outputs": []
    },
    {
      "cell_type": "code",
      "metadata": {
        "colab": {
          "base_uri": "https://localhost:8080/"
        },
        "id": "iYlDqJJs3cCM",
        "outputId": "2034621c-2a38-4ef1-9fee-10db004fc3c8"
      },
      "source": [
        "# Predictiing the output for next 30 days\n",
        "from numpy import array\n",
        "\n",
        "lst_output=[]   # empty list of the output\n",
        "n_steps=100\n",
        "i=0\n",
        "while(i<30):        # 30 shows next 30 days\n",
        "    \n",
        "    if(len(temp_input)>100):                         # As input data is 100. So we are shifting input by 1 position\n",
        "        #print(temp_input)\n",
        "        x_input=np.array(temp_input[1:])             # take input by shifting it by 1 place. We continue this till we reach i = 30 i.e 30 days predictions\n",
        "        print(\"{} day input {}\".format(i,x_input))    \n",
        "        x_input=x_input.reshape(1,-1)                # reshaping the input accoriding to LSTM\n",
        "        x_input = x_input.reshape((1, n_steps, 1))   \n",
        "           \n",
        "        yhat = model.predict(x_input, verbose=0)     # predicting the output\n",
        "        print(\"{} day output {}\".format(i,yhat))\n",
        "        temp_input.extend(yhat[0].tolist())          # add output to input list by extending the input list\n",
        "        temp_input=temp_input[1:]\n",
        "        \n",
        "        lst_output.extend(yhat.tolist())             \n",
        "        i=i+1\n",
        "    else:\n",
        "        x_input = x_input.reshape((1, n_steps,1))\n",
        "        yhat = model.predict(x_input, verbose=0)\n",
        "        print(yhat[0])\n",
        "        temp_input.extend(yhat[0].tolist())\n",
        "        print(len(temp_input))\n",
        "        lst_output.extend(yhat.tolist())\n",
        "        i=i+1\n",
        "    \n",
        "print(lst_output)"
      ],
      "execution_count": 41,
      "outputs": [
        {
          "output_type": "stream",
          "text": [
            "[0.9652145]\n",
            "101\n",
            "1 day input [0.8866419  0.87431394 0.88431985 0.87836697 0.8986321  0.92582116\n",
            " 0.92877649 0.95676771 0.93869797 0.93304061 0.94950604 0.96424048\n",
            " 0.95512117 0.95989192 0.96635143 0.96246728 0.92295027 0.9598497\n",
            " 0.98792536 0.98594106 0.92531453 0.92172591 0.96474711 0.97572406\n",
            " 0.99159841 0.96972895 0.97614625 0.96795575 1.         0.99016297\n",
            " 0.99050072 0.96538039 0.98488559 0.97086887 0.94026007 0.87748037\n",
            " 0.83483915 0.85413324 0.77336823 0.77269273 0.88014017 0.84007431\n",
            " 0.89673225 0.85527316 0.83884995 0.74233725 0.82327113 0.78143207\n",
            " 0.6665963  0.7921557  0.64118044 0.68614371 0.66001013 0.65203074\n",
            " 0.58642236 0.56586169 0.66089673 0.65515494 0.70970193 0.66452757\n",
            " 0.69437642 0.69218104 0.63569197 0.65266402 0.63780292 0.7267162\n",
            " 0.71388162 0.74191506 0.75002111 0.77222832 0.83049059 0.8194292\n",
            " 0.8289707  0.8125475  0.78776492 0.75162543 0.78426074 0.77974331\n",
            " 0.81326522 0.8141096  0.79473106 0.83336148 0.85898843 0.83901883\n",
            " 0.85628641 0.87486279 0.88782403 0.90095415 0.92793211 0.948535\n",
            " 0.93333615 0.91746179 0.92544119 0.91771511 0.9483239  0.94064004\n",
            " 0.96635143 0.9563033  0.96491598 0.96521449]\n",
            "1 day output [[0.9645766]]\n",
            "2 day input [0.87431394 0.88431985 0.87836697 0.8986321  0.92582116 0.92877649\n",
            " 0.95676771 0.93869797 0.93304061 0.94950604 0.96424048 0.95512117\n",
            " 0.95989192 0.96635143 0.96246728 0.92295027 0.9598497  0.98792536\n",
            " 0.98594106 0.92531453 0.92172591 0.96474711 0.97572406 0.99159841\n",
            " 0.96972895 0.97614625 0.96795575 1.         0.99016297 0.99050072\n",
            " 0.96538039 0.98488559 0.97086887 0.94026007 0.87748037 0.83483915\n",
            " 0.85413324 0.77336823 0.77269273 0.88014017 0.84007431 0.89673225\n",
            " 0.85527316 0.83884995 0.74233725 0.82327113 0.78143207 0.6665963\n",
            " 0.7921557  0.64118044 0.68614371 0.66001013 0.65203074 0.58642236\n",
            " 0.56586169 0.66089673 0.65515494 0.70970193 0.66452757 0.69437642\n",
            " 0.69218104 0.63569197 0.65266402 0.63780292 0.7267162  0.71388162\n",
            " 0.74191506 0.75002111 0.77222832 0.83049059 0.8194292  0.8289707\n",
            " 0.8125475  0.78776492 0.75162543 0.78426074 0.77974331 0.81326522\n",
            " 0.8141096  0.79473106 0.83336148 0.85898843 0.83901883 0.85628641\n",
            " 0.87486279 0.88782403 0.90095415 0.92793211 0.948535   0.93333615\n",
            " 0.91746179 0.92544119 0.91771511 0.9483239  0.94064004 0.96635143\n",
            " 0.9563033  0.96491598 0.96521449 0.9645766 ]\n",
            "2 day output [[0.96194357]]\n",
            "3 day input [0.88431985 0.87836697 0.8986321  0.92582116 0.92877649 0.95676771\n",
            " 0.93869797 0.93304061 0.94950604 0.96424048 0.95512117 0.95989192\n",
            " 0.96635143 0.96246728 0.92295027 0.9598497  0.98792536 0.98594106\n",
            " 0.92531453 0.92172591 0.96474711 0.97572406 0.99159841 0.96972895\n",
            " 0.97614625 0.96795575 1.         0.99016297 0.99050072 0.96538039\n",
            " 0.98488559 0.97086887 0.94026007 0.87748037 0.83483915 0.85413324\n",
            " 0.77336823 0.77269273 0.88014017 0.84007431 0.89673225 0.85527316\n",
            " 0.83884995 0.74233725 0.82327113 0.78143207 0.6665963  0.7921557\n",
            " 0.64118044 0.68614371 0.66001013 0.65203074 0.58642236 0.56586169\n",
            " 0.66089673 0.65515494 0.70970193 0.66452757 0.69437642 0.69218104\n",
            " 0.63569197 0.65266402 0.63780292 0.7267162  0.71388162 0.74191506\n",
            " 0.75002111 0.77222832 0.83049059 0.8194292  0.8289707  0.8125475\n",
            " 0.78776492 0.75162543 0.78426074 0.77974331 0.81326522 0.8141096\n",
            " 0.79473106 0.83336148 0.85898843 0.83901883 0.85628641 0.87486279\n",
            " 0.88782403 0.90095415 0.92793211 0.948535   0.93333615 0.91746179\n",
            " 0.92544119 0.91771511 0.9483239  0.94064004 0.96635143 0.9563033\n",
            " 0.96491598 0.96521449 0.9645766  0.96194357]\n",
            "3 day output [[0.95859057]]\n",
            "4 day input [0.87836697 0.8986321  0.92582116 0.92877649 0.95676771 0.93869797\n",
            " 0.93304061 0.94950604 0.96424048 0.95512117 0.95989192 0.96635143\n",
            " 0.96246728 0.92295027 0.9598497  0.98792536 0.98594106 0.92531453\n",
            " 0.92172591 0.96474711 0.97572406 0.99159841 0.96972895 0.97614625\n",
            " 0.96795575 1.         0.99016297 0.99050072 0.96538039 0.98488559\n",
            " 0.97086887 0.94026007 0.87748037 0.83483915 0.85413324 0.77336823\n",
            " 0.77269273 0.88014017 0.84007431 0.89673225 0.85527316 0.83884995\n",
            " 0.74233725 0.82327113 0.78143207 0.6665963  0.7921557  0.64118044\n",
            " 0.68614371 0.66001013 0.65203074 0.58642236 0.56586169 0.66089673\n",
            " 0.65515494 0.70970193 0.66452757 0.69437642 0.69218104 0.63569197\n",
            " 0.65266402 0.63780292 0.7267162  0.71388162 0.74191506 0.75002111\n",
            " 0.77222832 0.83049059 0.8194292  0.8289707  0.8125475  0.78776492\n",
            " 0.75162543 0.78426074 0.77974331 0.81326522 0.8141096  0.79473106\n",
            " 0.83336148 0.85898843 0.83901883 0.85628641 0.87486279 0.88782403\n",
            " 0.90095415 0.92793211 0.948535   0.93333615 0.91746179 0.92544119\n",
            " 0.91771511 0.9483239  0.94064004 0.96635143 0.9563033  0.96491598\n",
            " 0.96521449 0.9645766  0.96194357 0.95859057]\n",
            "4 day output [[0.95548755]]\n",
            "5 day input [0.8986321  0.92582116 0.92877649 0.95676771 0.93869797 0.93304061\n",
            " 0.94950604 0.96424048 0.95512117 0.95989192 0.96635143 0.96246728\n",
            " 0.92295027 0.9598497  0.98792536 0.98594106 0.92531453 0.92172591\n",
            " 0.96474711 0.97572406 0.99159841 0.96972895 0.97614625 0.96795575\n",
            " 1.         0.99016297 0.99050072 0.96538039 0.98488559 0.97086887\n",
            " 0.94026007 0.87748037 0.83483915 0.85413324 0.77336823 0.77269273\n",
            " 0.88014017 0.84007431 0.89673225 0.85527316 0.83884995 0.74233725\n",
            " 0.82327113 0.78143207 0.6665963  0.7921557  0.64118044 0.68614371\n",
            " 0.66001013 0.65203074 0.58642236 0.56586169 0.66089673 0.65515494\n",
            " 0.70970193 0.66452757 0.69437642 0.69218104 0.63569197 0.65266402\n",
            " 0.63780292 0.7267162  0.71388162 0.74191506 0.75002111 0.77222832\n",
            " 0.83049059 0.8194292  0.8289707  0.8125475  0.78776492 0.75162543\n",
            " 0.78426074 0.77974331 0.81326522 0.8141096  0.79473106 0.83336148\n",
            " 0.85898843 0.83901883 0.85628641 0.87486279 0.88782403 0.90095415\n",
            " 0.92793211 0.948535   0.93333615 0.91746179 0.92544119 0.91771511\n",
            " 0.9483239  0.94064004 0.96635143 0.9563033  0.96491598 0.96521449\n",
            " 0.9645766  0.96194357 0.95859057 0.95548755]\n",
            "5 day output [[0.9533654]]\n",
            "6 day input [0.92582116 0.92877649 0.95676771 0.93869797 0.93304061 0.94950604\n",
            " 0.96424048 0.95512117 0.95989192 0.96635143 0.96246728 0.92295027\n",
            " 0.9598497  0.98792536 0.98594106 0.92531453 0.92172591 0.96474711\n",
            " 0.97572406 0.99159841 0.96972895 0.97614625 0.96795575 1.\n",
            " 0.99016297 0.99050072 0.96538039 0.98488559 0.97086887 0.94026007\n",
            " 0.87748037 0.83483915 0.85413324 0.77336823 0.77269273 0.88014017\n",
            " 0.84007431 0.89673225 0.85527316 0.83884995 0.74233725 0.82327113\n",
            " 0.78143207 0.6665963  0.7921557  0.64118044 0.68614371 0.66001013\n",
            " 0.65203074 0.58642236 0.56586169 0.66089673 0.65515494 0.70970193\n",
            " 0.66452757 0.69437642 0.69218104 0.63569197 0.65266402 0.63780292\n",
            " 0.7267162  0.71388162 0.74191506 0.75002111 0.77222832 0.83049059\n",
            " 0.8194292  0.8289707  0.8125475  0.78776492 0.75162543 0.78426074\n",
            " 0.77974331 0.81326522 0.8141096  0.79473106 0.83336148 0.85898843\n",
            " 0.83901883 0.85628641 0.87486279 0.88782403 0.90095415 0.92793211\n",
            " 0.948535   0.93333615 0.91746179 0.92544119 0.91771511 0.9483239\n",
            " 0.94064004 0.96635143 0.9563033  0.96491598 0.96521449 0.9645766\n",
            " 0.96194357 0.95859057 0.95548755 0.95336539]\n",
            "6 day output [[0.9526575]]\n",
            "7 day input [0.92877649 0.95676771 0.93869797 0.93304061 0.94950604 0.96424048\n",
            " 0.95512117 0.95989192 0.96635143 0.96246728 0.92295027 0.9598497\n",
            " 0.98792536 0.98594106 0.92531453 0.92172591 0.96474711 0.97572406\n",
            " 0.99159841 0.96972895 0.97614625 0.96795575 1.         0.99016297\n",
            " 0.99050072 0.96538039 0.98488559 0.97086887 0.94026007 0.87748037\n",
            " 0.83483915 0.85413324 0.77336823 0.77269273 0.88014017 0.84007431\n",
            " 0.89673225 0.85527316 0.83884995 0.74233725 0.82327113 0.78143207\n",
            " 0.6665963  0.7921557  0.64118044 0.68614371 0.66001013 0.65203074\n",
            " 0.58642236 0.56586169 0.66089673 0.65515494 0.70970193 0.66452757\n",
            " 0.69437642 0.69218104 0.63569197 0.65266402 0.63780292 0.7267162\n",
            " 0.71388162 0.74191506 0.75002111 0.77222832 0.83049059 0.8194292\n",
            " 0.8289707  0.8125475  0.78776492 0.75162543 0.78426074 0.77974331\n",
            " 0.81326522 0.8141096  0.79473106 0.83336148 0.85898843 0.83901883\n",
            " 0.85628641 0.87486279 0.88782403 0.90095415 0.92793211 0.948535\n",
            " 0.93333615 0.91746179 0.92544119 0.91771511 0.9483239  0.94064004\n",
            " 0.96635143 0.9563033  0.96491598 0.96521449 0.9645766  0.96194357\n",
            " 0.95859057 0.95548755 0.95336539 0.95265752]\n",
            "7 day output [[0.95346767]]\n",
            "8 day input [0.95676771 0.93869797 0.93304061 0.94950604 0.96424048 0.95512117\n",
            " 0.95989192 0.96635143 0.96246728 0.92295027 0.9598497  0.98792536\n",
            " 0.98594106 0.92531453 0.92172591 0.96474711 0.97572406 0.99159841\n",
            " 0.96972895 0.97614625 0.96795575 1.         0.99016297 0.99050072\n",
            " 0.96538039 0.98488559 0.97086887 0.94026007 0.87748037 0.83483915\n",
            " 0.85413324 0.77336823 0.77269273 0.88014017 0.84007431 0.89673225\n",
            " 0.85527316 0.83884995 0.74233725 0.82327113 0.78143207 0.6665963\n",
            " 0.7921557  0.64118044 0.68614371 0.66001013 0.65203074 0.58642236\n",
            " 0.56586169 0.66089673 0.65515494 0.70970193 0.66452757 0.69437642\n",
            " 0.69218104 0.63569197 0.65266402 0.63780292 0.7267162  0.71388162\n",
            " 0.74191506 0.75002111 0.77222832 0.83049059 0.8194292  0.8289707\n",
            " 0.8125475  0.78776492 0.75162543 0.78426074 0.77974331 0.81326522\n",
            " 0.8141096  0.79473106 0.83336148 0.85898843 0.83901883 0.85628641\n",
            " 0.87486279 0.88782403 0.90095415 0.92793211 0.948535   0.93333615\n",
            " 0.91746179 0.92544119 0.91771511 0.9483239  0.94064004 0.96635143\n",
            " 0.9563033  0.96491598 0.96521449 0.9645766  0.96194357 0.95859057\n",
            " 0.95548755 0.95336539 0.95265752 0.95346767]\n",
            "8 day output [[0.95560247]]\n",
            "9 day input [0.93869797 0.93304061 0.94950604 0.96424048 0.95512117 0.95989192\n",
            " 0.96635143 0.96246728 0.92295027 0.9598497  0.98792536 0.98594106\n",
            " 0.92531453 0.92172591 0.96474711 0.97572406 0.99159841 0.96972895\n",
            " 0.97614625 0.96795575 1.         0.99016297 0.99050072 0.96538039\n",
            " 0.98488559 0.97086887 0.94026007 0.87748037 0.83483915 0.85413324\n",
            " 0.77336823 0.77269273 0.88014017 0.84007431 0.89673225 0.85527316\n",
            " 0.83884995 0.74233725 0.82327113 0.78143207 0.6665963  0.7921557\n",
            " 0.64118044 0.68614371 0.66001013 0.65203074 0.58642236 0.56586169\n",
            " 0.66089673 0.65515494 0.70970193 0.66452757 0.69437642 0.69218104\n",
            " 0.63569197 0.65266402 0.63780292 0.7267162  0.71388162 0.74191506\n",
            " 0.75002111 0.77222832 0.83049059 0.8194292  0.8289707  0.8125475\n",
            " 0.78776492 0.75162543 0.78426074 0.77974331 0.81326522 0.8141096\n",
            " 0.79473106 0.83336148 0.85898843 0.83901883 0.85628641 0.87486279\n",
            " 0.88782403 0.90095415 0.92793211 0.948535   0.93333615 0.91746179\n",
            " 0.92544119 0.91771511 0.9483239  0.94064004 0.96635143 0.9563033\n",
            " 0.96491598 0.96521449 0.9645766  0.96194357 0.95859057 0.95548755\n",
            " 0.95336539 0.95265752 0.95346767 0.95560247]\n",
            "9 day output [[0.95865417]]\n",
            "10 day input [0.93304061 0.94950604 0.96424048 0.95512117 0.95989192 0.96635143\n",
            " 0.96246728 0.92295027 0.9598497  0.98792536 0.98594106 0.92531453\n",
            " 0.92172591 0.96474711 0.97572406 0.99159841 0.96972895 0.97614625\n",
            " 0.96795575 1.         0.99016297 0.99050072 0.96538039 0.98488559\n",
            " 0.97086887 0.94026007 0.87748037 0.83483915 0.85413324 0.77336823\n",
            " 0.77269273 0.88014017 0.84007431 0.89673225 0.85527316 0.83884995\n",
            " 0.74233725 0.82327113 0.78143207 0.6665963  0.7921557  0.64118044\n",
            " 0.68614371 0.66001013 0.65203074 0.58642236 0.56586169 0.66089673\n",
            " 0.65515494 0.70970193 0.66452757 0.69437642 0.69218104 0.63569197\n",
            " 0.65266402 0.63780292 0.7267162  0.71388162 0.74191506 0.75002111\n",
            " 0.77222832 0.83049059 0.8194292  0.8289707  0.8125475  0.78776492\n",
            " 0.75162543 0.78426074 0.77974331 0.81326522 0.8141096  0.79473106\n",
            " 0.83336148 0.85898843 0.83901883 0.85628641 0.87486279 0.88782403\n",
            " 0.90095415 0.92793211 0.948535   0.93333615 0.91746179 0.92544119\n",
            " 0.91771511 0.9483239  0.94064004 0.96635143 0.9563033  0.96491598\n",
            " 0.96521449 0.9645766  0.96194357 0.95859057 0.95548755 0.95336539\n",
            " 0.95265752 0.95346767 0.95560247 0.95865417]\n",
            "10 day output [[0.9621136]]\n",
            "11 day input [0.94950604 0.96424048 0.95512117 0.95989192 0.96635143 0.96246728\n",
            " 0.92295027 0.9598497  0.98792536 0.98594106 0.92531453 0.92172591\n",
            " 0.96474711 0.97572406 0.99159841 0.96972895 0.97614625 0.96795575\n",
            " 1.         0.99016297 0.99050072 0.96538039 0.98488559 0.97086887\n",
            " 0.94026007 0.87748037 0.83483915 0.85413324 0.77336823 0.77269273\n",
            " 0.88014017 0.84007431 0.89673225 0.85527316 0.83884995 0.74233725\n",
            " 0.82327113 0.78143207 0.6665963  0.7921557  0.64118044 0.68614371\n",
            " 0.66001013 0.65203074 0.58642236 0.56586169 0.66089673 0.65515494\n",
            " 0.70970193 0.66452757 0.69437642 0.69218104 0.63569197 0.65266402\n",
            " 0.63780292 0.7267162  0.71388162 0.74191506 0.75002111 0.77222832\n",
            " 0.83049059 0.8194292  0.8289707  0.8125475  0.78776492 0.75162543\n",
            " 0.78426074 0.77974331 0.81326522 0.8141096  0.79473106 0.83336148\n",
            " 0.85898843 0.83901883 0.85628641 0.87486279 0.88782403 0.90095415\n",
            " 0.92793211 0.948535   0.93333615 0.91746179 0.92544119 0.91771511\n",
            " 0.9483239  0.94064004 0.96635143 0.9563033  0.96491598 0.96521449\n",
            " 0.9645766  0.96194357 0.95859057 0.95548755 0.95336539 0.95265752\n",
            " 0.95346767 0.95560247 0.95865417 0.96211362]\n",
            "11 day output [[0.9654826]]\n",
            "12 day input [0.96424048 0.95512117 0.95989192 0.96635143 0.96246728 0.92295027\n",
            " 0.9598497  0.98792536 0.98594106 0.92531453 0.92172591 0.96474711\n",
            " 0.97572406 0.99159841 0.96972895 0.97614625 0.96795575 1.\n",
            " 0.99016297 0.99050072 0.96538039 0.98488559 0.97086887 0.94026007\n",
            " 0.87748037 0.83483915 0.85413324 0.77336823 0.77269273 0.88014017\n",
            " 0.84007431 0.89673225 0.85527316 0.83884995 0.74233725 0.82327113\n",
            " 0.78143207 0.6665963  0.7921557  0.64118044 0.68614371 0.66001013\n",
            " 0.65203074 0.58642236 0.56586169 0.66089673 0.65515494 0.70970193\n",
            " 0.66452757 0.69437642 0.69218104 0.63569197 0.65266402 0.63780292\n",
            " 0.7267162  0.71388162 0.74191506 0.75002111 0.77222832 0.83049059\n",
            " 0.8194292  0.8289707  0.8125475  0.78776492 0.75162543 0.78426074\n",
            " 0.77974331 0.81326522 0.8141096  0.79473106 0.83336148 0.85898843\n",
            " 0.83901883 0.85628641 0.87486279 0.88782403 0.90095415 0.92793211\n",
            " 0.948535   0.93333615 0.91746179 0.92544119 0.91771511 0.9483239\n",
            " 0.94064004 0.96635143 0.9563033  0.96491598 0.96521449 0.9645766\n",
            " 0.96194357 0.95859057 0.95548755 0.95336539 0.95265752 0.95346767\n",
            " 0.95560247 0.95865417 0.96211362 0.96548259]\n",
            "12 day output [[0.96837085]]\n",
            "13 day input [0.95512117 0.95989192 0.96635143 0.96246728 0.92295027 0.9598497\n",
            " 0.98792536 0.98594106 0.92531453 0.92172591 0.96474711 0.97572406\n",
            " 0.99159841 0.96972895 0.97614625 0.96795575 1.         0.99016297\n",
            " 0.99050072 0.96538039 0.98488559 0.97086887 0.94026007 0.87748037\n",
            " 0.83483915 0.85413324 0.77336823 0.77269273 0.88014017 0.84007431\n",
            " 0.89673225 0.85527316 0.83884995 0.74233725 0.82327113 0.78143207\n",
            " 0.6665963  0.7921557  0.64118044 0.68614371 0.66001013 0.65203074\n",
            " 0.58642236 0.56586169 0.66089673 0.65515494 0.70970193 0.66452757\n",
            " 0.69437642 0.69218104 0.63569197 0.65266402 0.63780292 0.7267162\n",
            " 0.71388162 0.74191506 0.75002111 0.77222832 0.83049059 0.8194292\n",
            " 0.8289707  0.8125475  0.78776492 0.75162543 0.78426074 0.77974331\n",
            " 0.81326522 0.8141096  0.79473106 0.83336148 0.85898843 0.83901883\n",
            " 0.85628641 0.87486279 0.88782403 0.90095415 0.92793211 0.948535\n",
            " 0.93333615 0.91746179 0.92544119 0.91771511 0.9483239  0.94064004\n",
            " 0.96635143 0.9563033  0.96491598 0.96521449 0.9645766  0.96194357\n",
            " 0.95859057 0.95548755 0.95336539 0.95265752 0.95346767 0.95560247\n",
            " 0.95865417 0.96211362 0.96548259 0.96837085]\n",
            "13 day output [[0.97055805]]\n",
            "14 day input [0.95989192 0.96635143 0.96246728 0.92295027 0.9598497  0.98792536\n",
            " 0.98594106 0.92531453 0.92172591 0.96474711 0.97572406 0.99159841\n",
            " 0.96972895 0.97614625 0.96795575 1.         0.99016297 0.99050072\n",
            " 0.96538039 0.98488559 0.97086887 0.94026007 0.87748037 0.83483915\n",
            " 0.85413324 0.77336823 0.77269273 0.88014017 0.84007431 0.89673225\n",
            " 0.85527316 0.83884995 0.74233725 0.82327113 0.78143207 0.6665963\n",
            " 0.7921557  0.64118044 0.68614371 0.66001013 0.65203074 0.58642236\n",
            " 0.56586169 0.66089673 0.65515494 0.70970193 0.66452757 0.69437642\n",
            " 0.69218104 0.63569197 0.65266402 0.63780292 0.7267162  0.71388162\n",
            " 0.74191506 0.75002111 0.77222832 0.83049059 0.8194292  0.8289707\n",
            " 0.8125475  0.78776492 0.75162543 0.78426074 0.77974331 0.81326522\n",
            " 0.8141096  0.79473106 0.83336148 0.85898843 0.83901883 0.85628641\n",
            " 0.87486279 0.88782403 0.90095415 0.92793211 0.948535   0.93333615\n",
            " 0.91746179 0.92544119 0.91771511 0.9483239  0.94064004 0.96635143\n",
            " 0.9563033  0.96491598 0.96521449 0.9645766  0.96194357 0.95859057\n",
            " 0.95548755 0.95336539 0.95265752 0.95346767 0.95560247 0.95865417\n",
            " 0.96211362 0.96548259 0.96837085 0.97055805]\n",
            "14 day output [[0.9720168]]\n",
            "15 day input [0.96635143 0.96246728 0.92295027 0.9598497  0.98792536 0.98594106\n",
            " 0.92531453 0.92172591 0.96474711 0.97572406 0.99159841 0.96972895\n",
            " 0.97614625 0.96795575 1.         0.99016297 0.99050072 0.96538039\n",
            " 0.98488559 0.97086887 0.94026007 0.87748037 0.83483915 0.85413324\n",
            " 0.77336823 0.77269273 0.88014017 0.84007431 0.89673225 0.85527316\n",
            " 0.83884995 0.74233725 0.82327113 0.78143207 0.6665963  0.7921557\n",
            " 0.64118044 0.68614371 0.66001013 0.65203074 0.58642236 0.56586169\n",
            " 0.66089673 0.65515494 0.70970193 0.66452757 0.69437642 0.69218104\n",
            " 0.63569197 0.65266402 0.63780292 0.7267162  0.71388162 0.74191506\n",
            " 0.75002111 0.77222832 0.83049059 0.8194292  0.8289707  0.8125475\n",
            " 0.78776492 0.75162543 0.78426074 0.77974331 0.81326522 0.8141096\n",
            " 0.79473106 0.83336148 0.85898843 0.83901883 0.85628641 0.87486279\n",
            " 0.88782403 0.90095415 0.92793211 0.948535   0.93333615 0.91746179\n",
            " 0.92544119 0.91771511 0.9483239  0.94064004 0.96635143 0.9563033\n",
            " 0.96491598 0.96521449 0.9645766  0.96194357 0.95859057 0.95548755\n",
            " 0.95336539 0.95265752 0.95346767 0.95560247 0.95865417 0.96211362\n",
            " 0.96548259 0.96837085 0.97055805 0.97201681]\n",
            "15 day output [[0.97289497]]\n",
            "16 day input [0.96246728 0.92295027 0.9598497  0.98792536 0.98594106 0.92531453\n",
            " 0.92172591 0.96474711 0.97572406 0.99159841 0.96972895 0.97614625\n",
            " 0.96795575 1.         0.99016297 0.99050072 0.96538039 0.98488559\n",
            " 0.97086887 0.94026007 0.87748037 0.83483915 0.85413324 0.77336823\n",
            " 0.77269273 0.88014017 0.84007431 0.89673225 0.85527316 0.83884995\n",
            " 0.74233725 0.82327113 0.78143207 0.6665963  0.7921557  0.64118044\n",
            " 0.68614371 0.66001013 0.65203074 0.58642236 0.56586169 0.66089673\n",
            " 0.65515494 0.70970193 0.66452757 0.69437642 0.69218104 0.63569197\n",
            " 0.65266402 0.63780292 0.7267162  0.71388162 0.74191506 0.75002111\n",
            " 0.77222832 0.83049059 0.8194292  0.8289707  0.8125475  0.78776492\n",
            " 0.75162543 0.78426074 0.77974331 0.81326522 0.8141096  0.79473106\n",
            " 0.83336148 0.85898843 0.83901883 0.85628641 0.87486279 0.88782403\n",
            " 0.90095415 0.92793211 0.948535   0.93333615 0.91746179 0.92544119\n",
            " 0.91771511 0.9483239  0.94064004 0.96635143 0.9563033  0.96491598\n",
            " 0.96521449 0.9645766  0.96194357 0.95859057 0.95548755 0.95336539\n",
            " 0.95265752 0.95346767 0.95560247 0.95865417 0.96211362 0.96548259\n",
            " 0.96837085 0.97055805 0.97201681 0.97289497]\n",
            "16 day output [[0.9734656]]\n",
            "17 day input [0.92295027 0.9598497  0.98792536 0.98594106 0.92531453 0.92172591\n",
            " 0.96474711 0.97572406 0.99159841 0.96972895 0.97614625 0.96795575\n",
            " 1.         0.99016297 0.99050072 0.96538039 0.98488559 0.97086887\n",
            " 0.94026007 0.87748037 0.83483915 0.85413324 0.77336823 0.77269273\n",
            " 0.88014017 0.84007431 0.89673225 0.85527316 0.83884995 0.74233725\n",
            " 0.82327113 0.78143207 0.6665963  0.7921557  0.64118044 0.68614371\n",
            " 0.66001013 0.65203074 0.58642236 0.56586169 0.66089673 0.65515494\n",
            " 0.70970193 0.66452757 0.69437642 0.69218104 0.63569197 0.65266402\n",
            " 0.63780292 0.7267162  0.71388162 0.74191506 0.75002111 0.77222832\n",
            " 0.83049059 0.8194292  0.8289707  0.8125475  0.78776492 0.75162543\n",
            " 0.78426074 0.77974331 0.81326522 0.8141096  0.79473106 0.83336148\n",
            " 0.85898843 0.83901883 0.85628641 0.87486279 0.88782403 0.90095415\n",
            " 0.92793211 0.948535   0.93333615 0.91746179 0.92544119 0.91771511\n",
            " 0.9483239  0.94064004 0.96635143 0.9563033  0.96491598 0.96521449\n",
            " 0.9645766  0.96194357 0.95859057 0.95548755 0.95336539 0.95265752\n",
            " 0.95346767 0.95560247 0.95865417 0.96211362 0.96548259 0.96837085\n",
            " 0.97055805 0.97201681 0.97289497 0.97346562]\n",
            "17 day output [[0.9740559]]\n",
            "18 day input [0.9598497  0.98792536 0.98594106 0.92531453 0.92172591 0.96474711\n",
            " 0.97572406 0.99159841 0.96972895 0.97614625 0.96795575 1.\n",
            " 0.99016297 0.99050072 0.96538039 0.98488559 0.97086887 0.94026007\n",
            " 0.87748037 0.83483915 0.85413324 0.77336823 0.77269273 0.88014017\n",
            " 0.84007431 0.89673225 0.85527316 0.83884995 0.74233725 0.82327113\n",
            " 0.78143207 0.6665963  0.7921557  0.64118044 0.68614371 0.66001013\n",
            " 0.65203074 0.58642236 0.56586169 0.66089673 0.65515494 0.70970193\n",
            " 0.66452757 0.69437642 0.69218104 0.63569197 0.65266402 0.63780292\n",
            " 0.7267162  0.71388162 0.74191506 0.75002111 0.77222832 0.83049059\n",
            " 0.8194292  0.8289707  0.8125475  0.78776492 0.75162543 0.78426074\n",
            " 0.77974331 0.81326522 0.8141096  0.79473106 0.83336148 0.85898843\n",
            " 0.83901883 0.85628641 0.87486279 0.88782403 0.90095415 0.92793211\n",
            " 0.948535   0.93333615 0.91746179 0.92544119 0.91771511 0.9483239\n",
            " 0.94064004 0.96635143 0.9563033  0.96491598 0.96521449 0.9645766\n",
            " 0.96194357 0.95859057 0.95548755 0.95336539 0.95265752 0.95346767\n",
            " 0.95560247 0.95865417 0.96211362 0.96548259 0.96837085 0.97055805\n",
            " 0.97201681 0.97289497 0.97346562 0.97405589]\n",
            "18 day output [[0.9749757]]\n",
            "19 day input [0.98792536 0.98594106 0.92531453 0.92172591 0.96474711 0.97572406\n",
            " 0.99159841 0.96972895 0.97614625 0.96795575 1.         0.99016297\n",
            " 0.99050072 0.96538039 0.98488559 0.97086887 0.94026007 0.87748037\n",
            " 0.83483915 0.85413324 0.77336823 0.77269273 0.88014017 0.84007431\n",
            " 0.89673225 0.85527316 0.83884995 0.74233725 0.82327113 0.78143207\n",
            " 0.6665963  0.7921557  0.64118044 0.68614371 0.66001013 0.65203074\n",
            " 0.58642236 0.56586169 0.66089673 0.65515494 0.70970193 0.66452757\n",
            " 0.69437642 0.69218104 0.63569197 0.65266402 0.63780292 0.7267162\n",
            " 0.71388162 0.74191506 0.75002111 0.77222832 0.83049059 0.8194292\n",
            " 0.8289707  0.8125475  0.78776492 0.75162543 0.78426074 0.77974331\n",
            " 0.81326522 0.8141096  0.79473106 0.83336148 0.85898843 0.83901883\n",
            " 0.85628641 0.87486279 0.88782403 0.90095415 0.92793211 0.948535\n",
            " 0.93333615 0.91746179 0.92544119 0.91771511 0.9483239  0.94064004\n",
            " 0.96635143 0.9563033  0.96491598 0.96521449 0.9645766  0.96194357\n",
            " 0.95859057 0.95548755 0.95336539 0.95265752 0.95346767 0.95560247\n",
            " 0.95865417 0.96211362 0.96548259 0.96837085 0.97055805 0.97201681\n",
            " 0.97289497 0.97346562 0.97405589 0.97497571]\n",
            "19 day output [[0.9764557]]\n",
            "20 day input [0.98594106 0.92531453 0.92172591 0.96474711 0.97572406 0.99159841\n",
            " 0.96972895 0.97614625 0.96795575 1.         0.99016297 0.99050072\n",
            " 0.96538039 0.98488559 0.97086887 0.94026007 0.87748037 0.83483915\n",
            " 0.85413324 0.77336823 0.77269273 0.88014017 0.84007431 0.89673225\n",
            " 0.85527316 0.83884995 0.74233725 0.82327113 0.78143207 0.6665963\n",
            " 0.7921557  0.64118044 0.68614371 0.66001013 0.65203074 0.58642236\n",
            " 0.56586169 0.66089673 0.65515494 0.70970193 0.66452757 0.69437642\n",
            " 0.69218104 0.63569197 0.65266402 0.63780292 0.7267162  0.71388162\n",
            " 0.74191506 0.75002111 0.77222832 0.83049059 0.8194292  0.8289707\n",
            " 0.8125475  0.78776492 0.75162543 0.78426074 0.77974331 0.81326522\n",
            " 0.8141096  0.79473106 0.83336148 0.85898843 0.83901883 0.85628641\n",
            " 0.87486279 0.88782403 0.90095415 0.92793211 0.948535   0.93333615\n",
            " 0.91746179 0.92544119 0.91771511 0.9483239  0.94064004 0.96635143\n",
            " 0.9563033  0.96491598 0.96521449 0.9645766  0.96194357 0.95859057\n",
            " 0.95548755 0.95336539 0.95265752 0.95346767 0.95560247 0.95865417\n",
            " 0.96211362 0.96548259 0.96837085 0.97055805 0.97201681 0.97289497\n",
            " 0.97346562 0.97405589 0.97497571 0.97645569]\n",
            "20 day output [[0.97860944]]\n",
            "21 day input [0.92531453 0.92172591 0.96474711 0.97572406 0.99159841 0.96972895\n",
            " 0.97614625 0.96795575 1.         0.99016297 0.99050072 0.96538039\n",
            " 0.98488559 0.97086887 0.94026007 0.87748037 0.83483915 0.85413324\n",
            " 0.77336823 0.77269273 0.88014017 0.84007431 0.89673225 0.85527316\n",
            " 0.83884995 0.74233725 0.82327113 0.78143207 0.6665963  0.7921557\n",
            " 0.64118044 0.68614371 0.66001013 0.65203074 0.58642236 0.56586169\n",
            " 0.66089673 0.65515494 0.70970193 0.66452757 0.69437642 0.69218104\n",
            " 0.63569197 0.65266402 0.63780292 0.7267162  0.71388162 0.74191506\n",
            " 0.75002111 0.77222832 0.83049059 0.8194292  0.8289707  0.8125475\n",
            " 0.78776492 0.75162543 0.78426074 0.77974331 0.81326522 0.8141096\n",
            " 0.79473106 0.83336148 0.85898843 0.83901883 0.85628641 0.87486279\n",
            " 0.88782403 0.90095415 0.92793211 0.948535   0.93333615 0.91746179\n",
            " 0.92544119 0.91771511 0.9483239  0.94064004 0.96635143 0.9563033\n",
            " 0.96491598 0.96521449 0.9645766  0.96194357 0.95859057 0.95548755\n",
            " 0.95336539 0.95265752 0.95346767 0.95560247 0.95865417 0.96211362\n",
            " 0.96548259 0.96837085 0.97055805 0.97201681 0.97289497 0.97346562\n",
            " 0.97405589 0.97497571 0.97645569 0.97860944]\n",
            "21 day output [[0.9814233]]\n",
            "22 day input [0.92172591 0.96474711 0.97572406 0.99159841 0.96972895 0.97614625\n",
            " 0.96795575 1.         0.99016297 0.99050072 0.96538039 0.98488559\n",
            " 0.97086887 0.94026007 0.87748037 0.83483915 0.85413324 0.77336823\n",
            " 0.77269273 0.88014017 0.84007431 0.89673225 0.85527316 0.83884995\n",
            " 0.74233725 0.82327113 0.78143207 0.6665963  0.7921557  0.64118044\n",
            " 0.68614371 0.66001013 0.65203074 0.58642236 0.56586169 0.66089673\n",
            " 0.65515494 0.70970193 0.66452757 0.69437642 0.69218104 0.63569197\n",
            " 0.65266402 0.63780292 0.7267162  0.71388162 0.74191506 0.75002111\n",
            " 0.77222832 0.83049059 0.8194292  0.8289707  0.8125475  0.78776492\n",
            " 0.75162543 0.78426074 0.77974331 0.81326522 0.8141096  0.79473106\n",
            " 0.83336148 0.85898843 0.83901883 0.85628641 0.87486279 0.88782403\n",
            " 0.90095415 0.92793211 0.948535   0.93333615 0.91746179 0.92544119\n",
            " 0.91771511 0.9483239  0.94064004 0.96635143 0.9563033  0.96491598\n",
            " 0.96521449 0.9645766  0.96194357 0.95859057 0.95548755 0.95336539\n",
            " 0.95265752 0.95346767 0.95560247 0.95865417 0.96211362 0.96548259\n",
            " 0.96837085 0.97055805 0.97201681 0.97289497 0.97346562 0.97405589\n",
            " 0.97497571 0.97645569 0.97860944 0.98142332]\n",
            "22 day output [[0.9847713]]\n",
            "23 day input [0.96474711 0.97572406 0.99159841 0.96972895 0.97614625 0.96795575\n",
            " 1.         0.99016297 0.99050072 0.96538039 0.98488559 0.97086887\n",
            " 0.94026007 0.87748037 0.83483915 0.85413324 0.77336823 0.77269273\n",
            " 0.88014017 0.84007431 0.89673225 0.85527316 0.83884995 0.74233725\n",
            " 0.82327113 0.78143207 0.6665963  0.7921557  0.64118044 0.68614371\n",
            " 0.66001013 0.65203074 0.58642236 0.56586169 0.66089673 0.65515494\n",
            " 0.70970193 0.66452757 0.69437642 0.69218104 0.63569197 0.65266402\n",
            " 0.63780292 0.7267162  0.71388162 0.74191506 0.75002111 0.77222832\n",
            " 0.83049059 0.8194292  0.8289707  0.8125475  0.78776492 0.75162543\n",
            " 0.78426074 0.77974331 0.81326522 0.8141096  0.79473106 0.83336148\n",
            " 0.85898843 0.83901883 0.85628641 0.87486279 0.88782403 0.90095415\n",
            " 0.92793211 0.948535   0.93333615 0.91746179 0.92544119 0.91771511\n",
            " 0.9483239  0.94064004 0.96635143 0.9563033  0.96491598 0.96521449\n",
            " 0.9645766  0.96194357 0.95859057 0.95548755 0.95336539 0.95265752\n",
            " 0.95346767 0.95560247 0.95865417 0.96211362 0.96548259 0.96837085\n",
            " 0.97055805 0.97201681 0.97289497 0.97346562 0.97405589 0.97497571\n",
            " 0.97645569 0.97860944 0.98142332 0.98477131]\n",
            "23 day output [[0.9884522]]\n",
            "24 day input [0.97572406 0.99159841 0.96972895 0.97614625 0.96795575 1.\n",
            " 0.99016297 0.99050072 0.96538039 0.98488559 0.97086887 0.94026007\n",
            " 0.87748037 0.83483915 0.85413324 0.77336823 0.77269273 0.88014017\n",
            " 0.84007431 0.89673225 0.85527316 0.83884995 0.74233725 0.82327113\n",
            " 0.78143207 0.6665963  0.7921557  0.64118044 0.68614371 0.66001013\n",
            " 0.65203074 0.58642236 0.56586169 0.66089673 0.65515494 0.70970193\n",
            " 0.66452757 0.69437642 0.69218104 0.63569197 0.65266402 0.63780292\n",
            " 0.7267162  0.71388162 0.74191506 0.75002111 0.77222832 0.83049059\n",
            " 0.8194292  0.8289707  0.8125475  0.78776492 0.75162543 0.78426074\n",
            " 0.77974331 0.81326522 0.8141096  0.79473106 0.83336148 0.85898843\n",
            " 0.83901883 0.85628641 0.87486279 0.88782403 0.90095415 0.92793211\n",
            " 0.948535   0.93333615 0.91746179 0.92544119 0.91771511 0.9483239\n",
            " 0.94064004 0.96635143 0.9563033  0.96491598 0.96521449 0.9645766\n",
            " 0.96194357 0.95859057 0.95548755 0.95336539 0.95265752 0.95346767\n",
            " 0.95560247 0.95865417 0.96211362 0.96548259 0.96837085 0.97055805\n",
            " 0.97201681 0.97289497 0.97346562 0.97405589 0.97497571 0.97645569\n",
            " 0.97860944 0.98142332 0.98477131 0.9884522 ]\n",
            "24 day output [[0.992233]]\n",
            "25 day input [0.99159841 0.96972895 0.97614625 0.96795575 1.         0.99016297\n",
            " 0.99050072 0.96538039 0.98488559 0.97086887 0.94026007 0.87748037\n",
            " 0.83483915 0.85413324 0.77336823 0.77269273 0.88014017 0.84007431\n",
            " 0.89673225 0.85527316 0.83884995 0.74233725 0.82327113 0.78143207\n",
            " 0.6665963  0.7921557  0.64118044 0.68614371 0.66001013 0.65203074\n",
            " 0.58642236 0.56586169 0.66089673 0.65515494 0.70970193 0.66452757\n",
            " 0.69437642 0.69218104 0.63569197 0.65266402 0.63780292 0.7267162\n",
            " 0.71388162 0.74191506 0.75002111 0.77222832 0.83049059 0.8194292\n",
            " 0.8289707  0.8125475  0.78776492 0.75162543 0.78426074 0.77974331\n",
            " 0.81326522 0.8141096  0.79473106 0.83336148 0.85898843 0.83901883\n",
            " 0.85628641 0.87486279 0.88782403 0.90095415 0.92793211 0.948535\n",
            " 0.93333615 0.91746179 0.92544119 0.91771511 0.9483239  0.94064004\n",
            " 0.96635143 0.9563033  0.96491598 0.96521449 0.9645766  0.96194357\n",
            " 0.95859057 0.95548755 0.95336539 0.95265752 0.95346767 0.95560247\n",
            " 0.95865417 0.96211362 0.96548259 0.96837085 0.97055805 0.97201681\n",
            " 0.97289497 0.97346562 0.97405589 0.97497571 0.97645569 0.97860944\n",
            " 0.98142332 0.98477131 0.9884522  0.99223298]\n",
            "25 day output [[0.9958956]]\n",
            "26 day input [0.96972895 0.97614625 0.96795575 1.         0.99016297 0.99050072\n",
            " 0.96538039 0.98488559 0.97086887 0.94026007 0.87748037 0.83483915\n",
            " 0.85413324 0.77336823 0.77269273 0.88014017 0.84007431 0.89673225\n",
            " 0.85527316 0.83884995 0.74233725 0.82327113 0.78143207 0.6665963\n",
            " 0.7921557  0.64118044 0.68614371 0.66001013 0.65203074 0.58642236\n",
            " 0.56586169 0.66089673 0.65515494 0.70970193 0.66452757 0.69437642\n",
            " 0.69218104 0.63569197 0.65266402 0.63780292 0.7267162  0.71388162\n",
            " 0.74191506 0.75002111 0.77222832 0.83049059 0.8194292  0.8289707\n",
            " 0.8125475  0.78776492 0.75162543 0.78426074 0.77974331 0.81326522\n",
            " 0.8141096  0.79473106 0.83336148 0.85898843 0.83901883 0.85628641\n",
            " 0.87486279 0.88782403 0.90095415 0.92793211 0.948535   0.93333615\n",
            " 0.91746179 0.92544119 0.91771511 0.9483239  0.94064004 0.96635143\n",
            " 0.9563033  0.96491598 0.96521449 0.9645766  0.96194357 0.95859057\n",
            " 0.95548755 0.95336539 0.95265752 0.95346767 0.95560247 0.95865417\n",
            " 0.96211362 0.96548259 0.96837085 0.97055805 0.97201681 0.97289497\n",
            " 0.97346562 0.97405589 0.97497571 0.97645569 0.97860944 0.98142332\n",
            " 0.98477131 0.9884522  0.99223298 0.99589562]\n",
            "26 day output [[0.999276]]\n",
            "27 day input [0.97614625 0.96795575 1.         0.99016297 0.99050072 0.96538039\n",
            " 0.98488559 0.97086887 0.94026007 0.87748037 0.83483915 0.85413324\n",
            " 0.77336823 0.77269273 0.88014017 0.84007431 0.89673225 0.85527316\n",
            " 0.83884995 0.74233725 0.82327113 0.78143207 0.6665963  0.7921557\n",
            " 0.64118044 0.68614371 0.66001013 0.65203074 0.58642236 0.56586169\n",
            " 0.66089673 0.65515494 0.70970193 0.66452757 0.69437642 0.69218104\n",
            " 0.63569197 0.65266402 0.63780292 0.7267162  0.71388162 0.74191506\n",
            " 0.75002111 0.77222832 0.83049059 0.8194292  0.8289707  0.8125475\n",
            " 0.78776492 0.75162543 0.78426074 0.77974331 0.81326522 0.8141096\n",
            " 0.79473106 0.83336148 0.85898843 0.83901883 0.85628641 0.87486279\n",
            " 0.88782403 0.90095415 0.92793211 0.948535   0.93333615 0.91746179\n",
            " 0.92544119 0.91771511 0.9483239  0.94064004 0.96635143 0.9563033\n",
            " 0.96491598 0.96521449 0.9645766  0.96194357 0.95859057 0.95548755\n",
            " 0.95336539 0.95265752 0.95346767 0.95560247 0.95865417 0.96211362\n",
            " 0.96548259 0.96837085 0.97055805 0.97201681 0.97289497 0.97346562\n",
            " 0.97405589 0.97497571 0.97645569 0.97860944 0.98142332 0.98477131\n",
            " 0.9884522  0.99223298 0.99589562 0.99927598]\n",
            "27 day output [[1.0022851]]\n",
            "28 day input [0.96795575 1.         0.99016297 0.99050072 0.96538039 0.98488559\n",
            " 0.97086887 0.94026007 0.87748037 0.83483915 0.85413324 0.77336823\n",
            " 0.77269273 0.88014017 0.84007431 0.89673225 0.85527316 0.83884995\n",
            " 0.74233725 0.82327113 0.78143207 0.6665963  0.7921557  0.64118044\n",
            " 0.68614371 0.66001013 0.65203074 0.58642236 0.56586169 0.66089673\n",
            " 0.65515494 0.70970193 0.66452757 0.69437642 0.69218104 0.63569197\n",
            " 0.65266402 0.63780292 0.7267162  0.71388162 0.74191506 0.75002111\n",
            " 0.77222832 0.83049059 0.8194292  0.8289707  0.8125475  0.78776492\n",
            " 0.75162543 0.78426074 0.77974331 0.81326522 0.8141096  0.79473106\n",
            " 0.83336148 0.85898843 0.83901883 0.85628641 0.87486279 0.88782403\n",
            " 0.90095415 0.92793211 0.948535   0.93333615 0.91746179 0.92544119\n",
            " 0.91771511 0.9483239  0.94064004 0.96635143 0.9563033  0.96491598\n",
            " 0.96521449 0.9645766  0.96194357 0.95859057 0.95548755 0.95336539\n",
            " 0.95265752 0.95346767 0.95560247 0.95865417 0.96211362 0.96548259\n",
            " 0.96837085 0.97055805 0.97201681 0.97289497 0.97346562 0.97405589\n",
            " 0.97497571 0.97645569 0.97860944 0.98142332 0.98477131 0.9884522\n",
            " 0.99223298 0.99589562 0.99927598 1.00228512]\n",
            "28 day output [[1.0049176]]\n",
            "29 day input [1.         0.99016297 0.99050072 0.96538039 0.98488559 0.97086887\n",
            " 0.94026007 0.87748037 0.83483915 0.85413324 0.77336823 0.77269273\n",
            " 0.88014017 0.84007431 0.89673225 0.85527316 0.83884995 0.74233725\n",
            " 0.82327113 0.78143207 0.6665963  0.7921557  0.64118044 0.68614371\n",
            " 0.66001013 0.65203074 0.58642236 0.56586169 0.66089673 0.65515494\n",
            " 0.70970193 0.66452757 0.69437642 0.69218104 0.63569197 0.65266402\n",
            " 0.63780292 0.7267162  0.71388162 0.74191506 0.75002111 0.77222832\n",
            " 0.83049059 0.8194292  0.8289707  0.8125475  0.78776492 0.75162543\n",
            " 0.78426074 0.77974331 0.81326522 0.8141096  0.79473106 0.83336148\n",
            " 0.85898843 0.83901883 0.85628641 0.87486279 0.88782403 0.90095415\n",
            " 0.92793211 0.948535   0.93333615 0.91746179 0.92544119 0.91771511\n",
            " 0.9483239  0.94064004 0.96635143 0.9563033  0.96491598 0.96521449\n",
            " 0.9645766  0.96194357 0.95859057 0.95548755 0.95336539 0.95265752\n",
            " 0.95346767 0.95560247 0.95865417 0.96211362 0.96548259 0.96837085\n",
            " 0.97055805 0.97201681 0.97289497 0.97346562 0.97405589 0.97497571\n",
            " 0.97645569 0.97860944 0.98142332 0.98477131 0.9884522  0.99223298\n",
            " 0.99589562 0.99927598 1.00228512 1.00491762]\n",
            "29 day output [[1.0072386]]\n",
            "[[0.9652144908905029], [0.9645766019821167], [0.9619435667991638], [0.958590567111969], [0.9554875493049622], [0.9533653855323792], [0.9526575207710266], [0.9534676671028137], [0.9556024670600891], [0.9586541652679443], [0.962113618850708], [0.9654825925827026], [0.9683708548545837], [0.9705580472946167], [0.9720168113708496], [0.9728949666023254], [0.973465621471405], [0.9740558862686157], [0.9749757051467896], [0.9764556884765625], [0.9786094427108765], [0.9814233183860779], [0.9847713112831116], [0.9884521961212158], [0.9922329783439636], [0.9958956241607666], [0.9992759823799133], [1.002285122871399], [1.0049176216125488], [1.0072386264801025]]\n"
          ],
          "name": "stdout"
        }
      ]
    },
    {
      "cell_type": "code",
      "metadata": {
        "id": "N1kWix3f6pic"
      },
      "source": [
        "# Getting arrays for days\n",
        "day_new=np.arange(1,101)\n",
        "day_pred=np.arange(101,131)"
      ],
      "execution_count": 42,
      "outputs": []
    },
    {
      "cell_type": "code",
      "metadata": {
        "colab": {
          "base_uri": "https://localhost:8080/"
        },
        "id": "JPpipu3k8TV0",
        "outputId": "1eb4d389-7926-4e91-9b7f-5e316dde2c80"
      },
      "source": [
        "len(df1)"
      ],
      "execution_count": 43,
      "outputs": [
        {
          "output_type": "execute_result",
          "data": {
            "text/plain": [
              "1258"
            ]
          },
          "metadata": {
            "tags": []
          },
          "execution_count": 43
        }
      ]
    },
    {
      "cell_type": "code",
      "metadata": {
        "colab": {
          "base_uri": "https://localhost:8080/",
          "height": 282
        },
        "id": "o9pX97VZ8YrW",
        "outputId": "dc901161-2994-48df-9dbf-bbdbec513f3f"
      },
      "source": [
        "plt.plot(day_new,scaler.inverse_transform(df1[1158:]))   # old days\n",
        "plt.plot(day_pred,scaler.inverse_transform(lst_output))  # new days"
      ],
      "execution_count": 44,
      "outputs": [
        {
          "output_type": "execute_result",
          "data": {
            "text/plain": [
              "[<matplotlib.lines.Line2D at 0x7f71a2019b90>]"
            ]
          },
          "metadata": {
            "tags": []
          },
          "execution_count": 44
        },
        {
          "output_type": "display_data",
          "data": {
            "image/png": "[encoded data removed]",
            "text/plain": [
              "<Figure size 432x288 with 1 Axes>"
            ]
          },
          "metadata": {
            "tags": [],
            "needs_background": "light"
          }
        }
      ]
    },
    {
      "cell_type": "code",
      "metadata": {
        "id": "YWp-PHly8mU2"
      },
      "source": [
        ""
      ],
      "execution_count": null,
      "outputs": []
    }
  ]
}