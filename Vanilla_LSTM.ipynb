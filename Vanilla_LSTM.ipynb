{
  "nbformat": 4,
  "nbformat_minor": 0,
  "metadata": {
    "colab": {
      "name": "Vanilla LSTM.ipynb",
      "provenance": [],
      "collapsed_sections": []
    },
    "kernelspec": {
      "name": "python3",
      "display_name": "Python 3"
    },
    "language_info": {
      "name": "python"
    }
  },
  "cells": [
    {
      "cell_type": "code",
      "metadata": {
        "id": "-L9fTA8YZdad"
      },
      "source": [
        "import pandas as pd\n",
        "import numpy as np"
      ],
      "execution_count": 1,
      "outputs": []
    },
    {
      "cell_type": "code",
      "metadata": {
        "id": "UwYeGtigBssk"
      },
      "source": [
        "# Define univariate sequence\n",
        "seq = [10,20,30,40,50,60,70,80,90]"
      ],
      "execution_count": 2,
      "outputs": []
    },
    {
      "cell_type": "code",
      "metadata": {
        "id": "sm6NT_-RB5hl"
      },
      "source": [
        "# Define the time step\n",
        "n_steps = 3"
      ],
      "execution_count": 3,
      "outputs": []
    },
    {
      "cell_type": "code",
      "metadata": {
        "id": "GMpweJt8B-yh"
      },
      "source": [
        "# Create a function to split the sequence into samples\n",
        "def split_sequence(sequence, n_step):\n",
        "  X, y = list(), list()\n",
        "  for i in range(len(sequence)):\n",
        "    end_i = i + n_step      # End limit of the pattern\n",
        "    # take the limit for the loop over the sequence\n",
        "    if end_i > len(sequence)-1:\n",
        "      break\n",
        "    # collect the input and output parameters from the loop\n",
        "    seq_x, seq_y = sequence[i:end_i], sequence[end_i]\n",
        "    X.append(seq_x)\n",
        "    y.append(seq_y)\n",
        "  return np.array(X), np.array(y)"
      ],
      "execution_count": 10,
      "outputs": []
    },
    {
      "cell_type": "code",
      "metadata": {
        "id": "MuYg3HcoDeBq"
      },
      "source": [
        "X, y = split_sequence(seq, n_steps)"
      ],
      "execution_count": 16,
      "outputs": []
    },
    {
      "cell_type": "code",
      "metadata": {
        "colab": {
          "base_uri": "https://localhost:8080/"
        },
        "id": "stHv73QVH0rC",
        "outputId": "68d5edf3-7118-4ff9-d37f-79b6a90126b0"
      },
      "source": [
        "X.shape"
      ],
      "execution_count": 17,
      "outputs": [
        {
          "output_type": "execute_result",
          "data": {
            "text/plain": [
              "(6, 3)"
            ]
          },
          "metadata": {
            "tags": []
          },
          "execution_count": 17
        }
      ]
    },
    {
      "cell_type": "code",
      "metadata": {
        "id": "WrlqFUbyGw0d"
      },
      "source": [
        "# reshape from [samples, timesteps] into [samples, timesteps, features]\n",
        "n_features = 1    \n",
        "X = X.reshape((X.shape[0], X.shape[1], n_features))"
      ],
      "execution_count": 18,
      "outputs": []
    },
    {
      "cell_type": "code",
      "metadata": {
        "id": "OcEJtCWSHwKU"
      },
      "source": [
        "# define model\n",
        "from keras.models import Sequential\n",
        "from keras.layers import LSTM\n",
        "from keras.layers import Dense"
      ],
      "execution_count": 19,
      "outputs": []
    },
    {
      "cell_type": "code",
      "metadata": {
        "id": "5bQvQnqHIZ98"
      },
      "source": [
        "model = Sequential()\n",
        "model.add(LSTM(50, activation = \"relu\", input_shape = (n_steps, n_features)))\n",
        "model.add(Dense(1))\n",
        "model.compile(optimizer = \"adam\", loss = \"mse\")"
      ],
      "execution_count": 20,
      "outputs": []
    },
    {
      "cell_type": "code",
      "metadata": {
        "colab": {
          "base_uri": "https://localhost:8080/"
        },
        "id": "UESdiqxmI4NX",
        "outputId": "507416a9-6ea8-4994-f565-1c372d1ac047"
      },
      "source": [
        "# Fit model\n",
        "model.fit(X, y, epochs = 200, verbose = 0)"
      ],
      "execution_count": 21,
      "outputs": [
        {
          "output_type": "execute_result",
          "data": {
            "text/plain": [
              "<tensorflow.python.keras.callbacks.History at 0x7fc375852650>"
            ]
          },
          "metadata": {
            "tags": []
          },
          "execution_count": 21
        }
      ]
    },
    {
      "cell_type": "code",
      "metadata": {
        "id": "BncczBsaJDfv"
      },
      "source": [
        "# demonstrate prediction\n",
        "x_input = np.array([70, 80, 90])"
      ],
      "execution_count": 22,
      "outputs": []
    },
    {
      "cell_type": "code",
      "metadata": {
        "id": "ATKAYvNrJSol"
      },
      "source": [
        "x_input = x_input.reshape(1, n_steps, n_features)"
      ],
      "execution_count": 23,
      "outputs": []
    },
    {
      "cell_type": "code",
      "metadata": {
        "id": "sAYtBiVzJfg_"
      },
      "source": [
        "yhat = model.predict(x_input, verbose = 0)"
      ],
      "execution_count": 24,
      "outputs": []
    },
    {
      "cell_type": "code",
      "metadata": {
        "colab": {
          "base_uri": "https://localhost:8080/"
        },
        "id": "LMfUP4tiJlU0",
        "outputId": "2e2ee214-7e40-48d9-d20a-d8800f09fb91"
      },
      "source": [
        "yhat"
      ],
      "execution_count": 25,
      "outputs": [
        {
          "output_type": "execute_result",
          "data": {
            "text/plain": [
              "array([[102.38269]], dtype=float32)"
            ]
          },
          "metadata": {
            "tags": []
          },
          "execution_count": 25
        }
      ]
    },
    {
      "cell_type": "code",
      "metadata": {
        "id": "mGjX65gdJnlE"
      },
      "source": [
        ""
      ],
      "execution_count": null,
      "outputs": []
    }
  ]
}